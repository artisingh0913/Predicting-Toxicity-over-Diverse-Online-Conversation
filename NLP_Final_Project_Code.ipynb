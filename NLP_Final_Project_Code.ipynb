{
 "cells": [
  {
   "cell_type": "markdown",
   "metadata": {},
   "source": [
    "## CMSC - 673 Project"
   ]
  },
  {
   "cell_type": "code",
   "execution_count": 1,
   "metadata": {},
   "outputs": [
    {
     "data": {
      "text/html": [
       "        <script type=\"text/javascript\">\n",
       "        window.PlotlyConfig = {MathJaxConfig: 'local'};\n",
       "        if (window.MathJax) {MathJax.Hub.Config({SVG: {font: \"STIX-Web\"}});}\n",
       "        if (typeof require !== 'undefined') {\n",
       "        require.undef(\"plotly\");\n",
       "        requirejs.config({\n",
       "            paths: {\n",
       "                'plotly': ['https://cdn.plot.ly/plotly-latest.min']\n",
       "            }\n",
       "        });\n",
       "        require(['plotly'], function(Plotly) {\n",
       "            window._Plotly = Plotly;\n",
       "        });\n",
       "        }\n",
       "        </script>\n",
       "        "
      ]
     },
     "metadata": {},
     "output_type": "display_data"
    },
    {
     "data": {
      "text/html": [
       "        <script type=\"text/javascript\">\n",
       "        window.PlotlyConfig = {MathJaxConfig: 'local'};\n",
       "        if (window.MathJax) {MathJax.Hub.Config({SVG: {font: \"STIX-Web\"}});}\n",
       "        if (typeof require !== 'undefined') {\n",
       "        require.undef(\"plotly\");\n",
       "        requirejs.config({\n",
       "            paths: {\n",
       "                'plotly': ['https://cdn.plot.ly/plotly-latest.min']\n",
       "            }\n",
       "        });\n",
       "        require(['plotly'], function(Plotly) {\n",
       "            window._Plotly = Plotly;\n",
       "        });\n",
       "        }\n",
       "        </script>\n",
       "        "
      ]
     },
     "metadata": {},
     "output_type": "display_data"
    }
   ],
   "source": [
    "import numpy as np\n",
    "import pandas as pd\n",
    "\n",
    "%matplotlib inline\n",
    "import matplotlib.pyplot as plt\n",
    "import seaborn as sns\n",
    "from plotly.offline import iplot, init_notebook_mode\n",
    "## for dataframe iplot\n",
    "import cufflinks\n",
    "\n",
    "# Using plotly + cufflinks in offline mode\n",
    "init_notebook_mode(connected=True)\n",
    "cufflinks.go_offline(connected=True)\n",
    "\n",
    "import warnings \n",
    "warnings.filterwarnings('ignore')"
   ]
  },
  {
   "cell_type": "code",
   "execution_count": 2,
   "metadata": {},
   "outputs": [],
   "source": [
    "import nltk\n",
    "import gensim\n",
    "import spacy\n",
    "from tensorflow.keras import preprocessing  \n",
    "import re"
   ]
  },
  {
   "cell_type": "code",
   "execution_count": 3,
   "metadata": {},
   "outputs": [],
   "source": [
    "from gensim.models import KeyedVectors\n",
    "from wordcloud import WordCloud, STOPWORDS\n",
    "from sklearn.feature_extraction.text import CountVectorizer, TfidfTransformer, TfidfVectorizer\n",
    "from scipy.sparse import hstack"
   ]
  },
  {
   "cell_type": "code",
   "execution_count": 4,
   "metadata": {},
   "outputs": [],
   "source": [
    "from sklearn.model_selection import cross_val_score, train_test_split\n",
    "from sklearn.metrics import classification_report, roc_auc_score, accuracy_score, precision_score, recall_score, f1_score\n",
    "from sklearn.linear_model import LogisticRegression\n",
    "from sklearn.naive_bayes import MultinomialNB\n",
    "from sklearn.svm import SVC"
   ]
  },
  {
   "cell_type": "code",
   "execution_count": 5,
   "metadata": {},
   "outputs": [],
   "source": [
    "df = pd.read_csv(\"data/train.csv\")\n",
    "# df = pd.read_csv(\"data/sample_submission.csv\")"
   ]
  },
  {
   "cell_type": "code",
   "execution_count": 6,
   "metadata": {},
   "outputs": [
    {
     "data": {
      "text/html": [
       "<div>\n",
       "<style scoped>\n",
       "    .dataframe tbody tr th:only-of-type {\n",
       "        vertical-align: middle;\n",
       "    }\n",
       "\n",
       "    .dataframe tbody tr th {\n",
       "        vertical-align: top;\n",
       "    }\n",
       "\n",
       "    .dataframe thead th {\n",
       "        text-align: right;\n",
       "    }\n",
       "</style>\n",
       "<table border=\"1\" class=\"dataframe\">\n",
       "  <thead>\n",
       "    <tr style=\"text-align: right;\">\n",
       "      <th></th>\n",
       "      <th>id</th>\n",
       "      <th>target</th>\n",
       "      <th>comment_text</th>\n",
       "      <th>severe_toxicity</th>\n",
       "      <th>obscene</th>\n",
       "      <th>identity_attack</th>\n",
       "      <th>insult</th>\n",
       "      <th>threat</th>\n",
       "      <th>asian</th>\n",
       "      <th>atheist</th>\n",
       "      <th>...</th>\n",
       "      <th>article_id</th>\n",
       "      <th>rating</th>\n",
       "      <th>funny</th>\n",
       "      <th>wow</th>\n",
       "      <th>sad</th>\n",
       "      <th>likes</th>\n",
       "      <th>disagree</th>\n",
       "      <th>sexual_explicit</th>\n",
       "      <th>identity_annotator_count</th>\n",
       "      <th>toxicity_annotator_count</th>\n",
       "    </tr>\n",
       "  </thead>\n",
       "  <tbody>\n",
       "    <tr>\n",
       "      <td>0</td>\n",
       "      <td>59848</td>\n",
       "      <td>0.000000</td>\n",
       "      <td>This is so cool. It's like, 'would you want yo...</td>\n",
       "      <td>0.000000</td>\n",
       "      <td>0.0</td>\n",
       "      <td>0.000000</td>\n",
       "      <td>0.00000</td>\n",
       "      <td>0.0</td>\n",
       "      <td>NaN</td>\n",
       "      <td>NaN</td>\n",
       "      <td>...</td>\n",
       "      <td>2006</td>\n",
       "      <td>rejected</td>\n",
       "      <td>0</td>\n",
       "      <td>0</td>\n",
       "      <td>0</td>\n",
       "      <td>0</td>\n",
       "      <td>0</td>\n",
       "      <td>0.0</td>\n",
       "      <td>0</td>\n",
       "      <td>4</td>\n",
       "    </tr>\n",
       "    <tr>\n",
       "      <td>1</td>\n",
       "      <td>59849</td>\n",
       "      <td>0.000000</td>\n",
       "      <td>Thank you!! This would make my life a lot less...</td>\n",
       "      <td>0.000000</td>\n",
       "      <td>0.0</td>\n",
       "      <td>0.000000</td>\n",
       "      <td>0.00000</td>\n",
       "      <td>0.0</td>\n",
       "      <td>NaN</td>\n",
       "      <td>NaN</td>\n",
       "      <td>...</td>\n",
       "      <td>2006</td>\n",
       "      <td>rejected</td>\n",
       "      <td>0</td>\n",
       "      <td>0</td>\n",
       "      <td>0</td>\n",
       "      <td>0</td>\n",
       "      <td>0</td>\n",
       "      <td>0.0</td>\n",
       "      <td>0</td>\n",
       "      <td>4</td>\n",
       "    </tr>\n",
       "    <tr>\n",
       "      <td>2</td>\n",
       "      <td>59852</td>\n",
       "      <td>0.000000</td>\n",
       "      <td>This is such an urgent design problem; kudos t...</td>\n",
       "      <td>0.000000</td>\n",
       "      <td>0.0</td>\n",
       "      <td>0.000000</td>\n",
       "      <td>0.00000</td>\n",
       "      <td>0.0</td>\n",
       "      <td>NaN</td>\n",
       "      <td>NaN</td>\n",
       "      <td>...</td>\n",
       "      <td>2006</td>\n",
       "      <td>rejected</td>\n",
       "      <td>0</td>\n",
       "      <td>0</td>\n",
       "      <td>0</td>\n",
       "      <td>0</td>\n",
       "      <td>0</td>\n",
       "      <td>0.0</td>\n",
       "      <td>0</td>\n",
       "      <td>4</td>\n",
       "    </tr>\n",
       "    <tr>\n",
       "      <td>3</td>\n",
       "      <td>59855</td>\n",
       "      <td>0.000000</td>\n",
       "      <td>Is this something I'll be able to install on m...</td>\n",
       "      <td>0.000000</td>\n",
       "      <td>0.0</td>\n",
       "      <td>0.000000</td>\n",
       "      <td>0.00000</td>\n",
       "      <td>0.0</td>\n",
       "      <td>NaN</td>\n",
       "      <td>NaN</td>\n",
       "      <td>...</td>\n",
       "      <td>2006</td>\n",
       "      <td>rejected</td>\n",
       "      <td>0</td>\n",
       "      <td>0</td>\n",
       "      <td>0</td>\n",
       "      <td>0</td>\n",
       "      <td>0</td>\n",
       "      <td>0.0</td>\n",
       "      <td>0</td>\n",
       "      <td>4</td>\n",
       "    </tr>\n",
       "    <tr>\n",
       "      <td>4</td>\n",
       "      <td>59856</td>\n",
       "      <td>0.893617</td>\n",
       "      <td>haha you guys are a bunch of losers.</td>\n",
       "      <td>0.021277</td>\n",
       "      <td>0.0</td>\n",
       "      <td>0.021277</td>\n",
       "      <td>0.87234</td>\n",
       "      <td>0.0</td>\n",
       "      <td>0.0</td>\n",
       "      <td>0.0</td>\n",
       "      <td>...</td>\n",
       "      <td>2006</td>\n",
       "      <td>rejected</td>\n",
       "      <td>0</td>\n",
       "      <td>0</td>\n",
       "      <td>0</td>\n",
       "      <td>1</td>\n",
       "      <td>0</td>\n",
       "      <td>0.0</td>\n",
       "      <td>4</td>\n",
       "      <td>47</td>\n",
       "    </tr>\n",
       "  </tbody>\n",
       "</table>\n",
       "<p>5 rows × 45 columns</p>\n",
       "</div>"
      ],
      "text/plain": [
       "      id    target                                       comment_text  \\\n",
       "0  59848  0.000000  This is so cool. It's like, 'would you want yo...   \n",
       "1  59849  0.000000  Thank you!! This would make my life a lot less...   \n",
       "2  59852  0.000000  This is such an urgent design problem; kudos t...   \n",
       "3  59855  0.000000  Is this something I'll be able to install on m...   \n",
       "4  59856  0.893617               haha you guys are a bunch of losers.   \n",
       "\n",
       "   severe_toxicity  obscene  identity_attack   insult  threat  asian  atheist  \\\n",
       "0         0.000000      0.0         0.000000  0.00000     0.0    NaN      NaN   \n",
       "1         0.000000      0.0         0.000000  0.00000     0.0    NaN      NaN   \n",
       "2         0.000000      0.0         0.000000  0.00000     0.0    NaN      NaN   \n",
       "3         0.000000      0.0         0.000000  0.00000     0.0    NaN      NaN   \n",
       "4         0.021277      0.0         0.021277  0.87234     0.0    0.0      0.0   \n",
       "\n",
       "   ...  article_id    rating  funny  wow  sad  likes  disagree  \\\n",
       "0  ...        2006  rejected      0    0    0      0         0   \n",
       "1  ...        2006  rejected      0    0    0      0         0   \n",
       "2  ...        2006  rejected      0    0    0      0         0   \n",
       "3  ...        2006  rejected      0    0    0      0         0   \n",
       "4  ...        2006  rejected      0    0    0      1         0   \n",
       "\n",
       "   sexual_explicit  identity_annotator_count  toxicity_annotator_count  \n",
       "0              0.0                         0                         4  \n",
       "1              0.0                         0                         4  \n",
       "2              0.0                         0                         4  \n",
       "3              0.0                         0                         4  \n",
       "4              0.0                         4                        47  \n",
       "\n",
       "[5 rows x 45 columns]"
      ]
     },
     "execution_count": 6,
     "metadata": {},
     "output_type": "execute_result"
    }
   ],
   "source": [
    "df.head()"
   ]
  },
  {
   "cell_type": "code",
   "execution_count": 7,
   "metadata": {},
   "outputs": [
    {
     "data": {
      "text/plain": [
       "Index(['id', 'target', 'comment_text', 'severe_toxicity', 'obscene',\n",
       "       'identity_attack', 'insult', 'threat', 'asian', 'atheist', 'bisexual',\n",
       "       'black', 'buddhist', 'christian', 'female', 'heterosexual', 'hindu',\n",
       "       'homosexual_gay_or_lesbian', 'intellectual_or_learning_disability',\n",
       "       'jewish', 'latino', 'male', 'muslim', 'other_disability',\n",
       "       'other_gender', 'other_race_or_ethnicity', 'other_religion',\n",
       "       'other_sexual_orientation', 'physical_disability',\n",
       "       'psychiatric_or_mental_illness', 'transgender', 'white', 'created_date',\n",
       "       'publication_id', 'parent_id', 'article_id', 'rating', 'funny', 'wow',\n",
       "       'sad', 'likes', 'disagree', 'sexual_explicit',\n",
       "       'identity_annotator_count', 'toxicity_annotator_count'],\n",
       "      dtype='object')"
      ]
     },
     "execution_count": 7,
     "metadata": {},
     "output_type": "execute_result"
    }
   ],
   "source": [
    "df.columns"
   ]
  },
  {
   "cell_type": "code",
   "execution_count": 8,
   "metadata": {},
   "outputs": [],
   "source": [
    "# 0 -> Non-Toxic; 1 -> Toxic\n",
    "df['isToxic'] = [1 if x >= 0.5 else 0 for x in df['target']]"
   ]
  },
  {
   "cell_type": "code",
   "execution_count": 9,
   "metadata": {},
   "outputs": [
    {
     "data": {
      "text/html": [
       "<div>\n",
       "<style scoped>\n",
       "    .dataframe tbody tr th:only-of-type {\n",
       "        vertical-align: middle;\n",
       "    }\n",
       "\n",
       "    .dataframe tbody tr th {\n",
       "        vertical-align: top;\n",
       "    }\n",
       "\n",
       "    .dataframe thead th {\n",
       "        text-align: right;\n",
       "    }\n",
       "</style>\n",
       "<table border=\"1\" class=\"dataframe\">\n",
       "  <thead>\n",
       "    <tr style=\"text-align: right;\">\n",
       "      <th></th>\n",
       "      <th>id</th>\n",
       "      <th>target</th>\n",
       "      <th>comment_text</th>\n",
       "      <th>severe_toxicity</th>\n",
       "      <th>obscene</th>\n",
       "      <th>identity_attack</th>\n",
       "      <th>insult</th>\n",
       "      <th>threat</th>\n",
       "      <th>asian</th>\n",
       "      <th>atheist</th>\n",
       "      <th>...</th>\n",
       "      <th>rating</th>\n",
       "      <th>funny</th>\n",
       "      <th>wow</th>\n",
       "      <th>sad</th>\n",
       "      <th>likes</th>\n",
       "      <th>disagree</th>\n",
       "      <th>sexual_explicit</th>\n",
       "      <th>identity_annotator_count</th>\n",
       "      <th>toxicity_annotator_count</th>\n",
       "      <th>isToxic</th>\n",
       "    </tr>\n",
       "  </thead>\n",
       "  <tbody>\n",
       "    <tr>\n",
       "      <td>0</td>\n",
       "      <td>59848</td>\n",
       "      <td>0.0</td>\n",
       "      <td>This is so cool. It's like, 'would you want yo...</td>\n",
       "      <td>0.0</td>\n",
       "      <td>0.0</td>\n",
       "      <td>0.0</td>\n",
       "      <td>0.0</td>\n",
       "      <td>0.0</td>\n",
       "      <td>NaN</td>\n",
       "      <td>NaN</td>\n",
       "      <td>...</td>\n",
       "      <td>rejected</td>\n",
       "      <td>0</td>\n",
       "      <td>0</td>\n",
       "      <td>0</td>\n",
       "      <td>0</td>\n",
       "      <td>0</td>\n",
       "      <td>0.0</td>\n",
       "      <td>0</td>\n",
       "      <td>4</td>\n",
       "      <td>0</td>\n",
       "    </tr>\n",
       "    <tr>\n",
       "      <td>1</td>\n",
       "      <td>59849</td>\n",
       "      <td>0.0</td>\n",
       "      <td>Thank you!! This would make my life a lot less...</td>\n",
       "      <td>0.0</td>\n",
       "      <td>0.0</td>\n",
       "      <td>0.0</td>\n",
       "      <td>0.0</td>\n",
       "      <td>0.0</td>\n",
       "      <td>NaN</td>\n",
       "      <td>NaN</td>\n",
       "      <td>...</td>\n",
       "      <td>rejected</td>\n",
       "      <td>0</td>\n",
       "      <td>0</td>\n",
       "      <td>0</td>\n",
       "      <td>0</td>\n",
       "      <td>0</td>\n",
       "      <td>0.0</td>\n",
       "      <td>0</td>\n",
       "      <td>4</td>\n",
       "      <td>0</td>\n",
       "    </tr>\n",
       "  </tbody>\n",
       "</table>\n",
       "<p>2 rows × 46 columns</p>\n",
       "</div>"
      ],
      "text/plain": [
       "      id  target                                       comment_text  \\\n",
       "0  59848     0.0  This is so cool. It's like, 'would you want yo...   \n",
       "1  59849     0.0  Thank you!! This would make my life a lot less...   \n",
       "\n",
       "   severe_toxicity  obscene  identity_attack  insult  threat  asian  atheist  \\\n",
       "0              0.0      0.0              0.0     0.0     0.0    NaN      NaN   \n",
       "1              0.0      0.0              0.0     0.0     0.0    NaN      NaN   \n",
       "\n",
       "   ...    rating  funny  wow  sad  likes  disagree  sexual_explicit  \\\n",
       "0  ...  rejected      0    0    0      0         0              0.0   \n",
       "1  ...  rejected      0    0    0      0         0              0.0   \n",
       "\n",
       "   identity_annotator_count  toxicity_annotator_count  isToxic  \n",
       "0                         0                         4        0  \n",
       "1                         0                         4        0  \n",
       "\n",
       "[2 rows x 46 columns]"
      ]
     },
     "execution_count": 9,
     "metadata": {},
     "output_type": "execute_result"
    }
   ],
   "source": [
    "df.head(2)"
   ]
  },
  {
   "cell_type": "code",
   "execution_count": 10,
   "metadata": {},
   "outputs": [
    {
     "data": {
      "text/plain": [
       "1804874"
      ]
     },
     "execution_count": 10,
     "metadata": {},
     "output_type": "execute_result"
    }
   ],
   "source": [
    "len(df)"
   ]
  },
  {
   "cell_type": "code",
   "execution_count": 11,
   "metadata": {},
   "outputs": [],
   "source": [
    "df.dropna(axis=0, inplace=True)"
   ]
  },
  {
   "cell_type": "code",
   "execution_count": 12,
   "metadata": {},
   "outputs": [
    {
     "data": {
      "text/plain": [
       "235087"
      ]
     },
     "execution_count": 12,
     "metadata": {},
     "output_type": "execute_result"
    }
   ],
   "source": [
    "len(df)"
   ]
  },
  {
   "cell_type": "code",
   "execution_count": 13,
   "metadata": {
    "scrolled": true
   },
   "outputs": [
    {
     "data": {
      "text/plain": [
       "Index(['id', 'target', 'comment_text', 'severe_toxicity', 'obscene',\n",
       "       'identity_attack', 'insult', 'threat', 'asian', 'atheist', 'bisexual',\n",
       "       'black', 'buddhist', 'christian', 'female', 'heterosexual', 'hindu',\n",
       "       'homosexual_gay_or_lesbian', 'intellectual_or_learning_disability',\n",
       "       'jewish', 'latino', 'male', 'muslim', 'other_disability',\n",
       "       'other_gender', 'other_race_or_ethnicity', 'other_religion',\n",
       "       'other_sexual_orientation', 'physical_disability',\n",
       "       'psychiatric_or_mental_illness', 'transgender', 'white', 'created_date',\n",
       "       'publication_id', 'parent_id', 'article_id', 'rating', 'funny', 'wow',\n",
       "       'sad', 'likes', 'disagree', 'sexual_explicit',\n",
       "       'identity_annotator_count', 'toxicity_annotator_count', 'isToxic'],\n",
       "      dtype='object')"
      ]
     },
     "execution_count": 13,
     "metadata": {},
     "output_type": "execute_result"
    }
   ],
   "source": [
    "df.columns"
   ]
  },
  {
   "cell_type": "code",
   "execution_count": 14,
   "metadata": {},
   "outputs": [
    {
     "data": {
      "text/plain": [
       "<matplotlib.axes._subplots.AxesSubplot at 0x7f555b5d1828>"
      ]
     },
     "execution_count": 14,
     "metadata": {},
     "output_type": "execute_result"
    },
    {
     "data": {
      "image/png": "[encoded data removed]",
      "text/plain": [
       "<Figure size 432x288 with 1 Axes>"
      ]
     },
     "metadata": {
      "needs_background": "light"
     },
     "output_type": "display_data"
    }
   ],
   "source": [
    "df['isToxic'].value_counts().plot(kind='bar',title='Toxic Comment Count (0 -> Non-Toxic; 1 -> Toxic)',rot=0) \n",
    "#, xTitle='0 -> Non-Toxic; 1 -> Toxic', yTitle='Counts'"
   ]
  },
  {
   "cell_type": "code",
   "execution_count": 15,
   "metadata": {},
   "outputs": [
    {
     "data": {
      "text/plain": [
       "<matplotlib.axes._subplots.AxesSubplot at 0x7f555b5075c0>"
      ]
     },
     "execution_count": 15,
     "metadata": {},
     "output_type": "execute_result"
    },
    {
     "data": {
      "image/png": "[encoded data removed]",
      "text/plain": [
       "<Figure size 432x288 with 1 Axes>"
      ]
     },
     "metadata": {
      "needs_background": "light"
     },
     "output_type": "display_data"
    }
   ],
   "source": [
    "df['identity_attack'].plot()"
   ]
  },
  {
   "cell_type": "code",
   "execution_count": 10,
   "metadata": {},
   "outputs": [],
   "source": [
    "comments = df['comment_text']"
   ]
  },
  {
   "cell_type": "code",
   "execution_count": 11,
   "metadata": {},
   "outputs": [],
   "source": [
    "import string\n",
    "def remove_punc(text):\n",
    "    no_punc_text = \"\"\n",
    "    prev_char = ''\n",
    "    for char in text:\n",
    "#         print(char)\n",
    "        if char not in string.punctuation:\n",
    "            no_punc_text += char\n",
    "#             prev_char = char\n",
    "        elif prev_char not in string.punctuation and prev_char != ' ':\n",
    "            no_punc_text += ' '\n",
    "        prev_char = char\n",
    "    return no_punc_text        "
   ]
  },
  {
   "cell_type": "code",
   "execution_count": 12,
   "metadata": {
    "scrolled": true
   },
   "outputs": [
    {
     "data": {
      "text/html": [
       "<div>\n",
       "<style scoped>\n",
       "    .dataframe tbody tr th:only-of-type {\n",
       "        vertical-align: middle;\n",
       "    }\n",
       "\n",
       "    .dataframe tbody tr th {\n",
       "        vertical-align: top;\n",
       "    }\n",
       "\n",
       "    .dataframe thead th {\n",
       "        text-align: right;\n",
       "    }\n",
       "</style>\n",
       "<table border=\"1\" class=\"dataframe\">\n",
       "  <thead>\n",
       "    <tr style=\"text-align: right;\">\n",
       "      <th></th>\n",
       "      <th>id</th>\n",
       "      <th>target</th>\n",
       "      <th>comment_text</th>\n",
       "      <th>severe_toxicity</th>\n",
       "      <th>obscene</th>\n",
       "      <th>identity_attack</th>\n",
       "      <th>insult</th>\n",
       "      <th>threat</th>\n",
       "      <th>asian</th>\n",
       "      <th>atheist</th>\n",
       "      <th>...</th>\n",
       "      <th>funny</th>\n",
       "      <th>wow</th>\n",
       "      <th>sad</th>\n",
       "      <th>likes</th>\n",
       "      <th>disagree</th>\n",
       "      <th>sexual_explicit</th>\n",
       "      <th>identity_annotator_count</th>\n",
       "      <th>toxicity_annotator_count</th>\n",
       "      <th>isToxic</th>\n",
       "      <th>comment</th>\n",
       "    </tr>\n",
       "  </thead>\n",
       "  <tbody>\n",
       "    <tr>\n",
       "      <td>0</td>\n",
       "      <td>59848</td>\n",
       "      <td>0.0</td>\n",
       "      <td>This is so cool. It's like, 'would you want yo...</td>\n",
       "      <td>0.0</td>\n",
       "      <td>0.0</td>\n",
       "      <td>0.0</td>\n",
       "      <td>0.0</td>\n",
       "      <td>0.0</td>\n",
       "      <td>NaN</td>\n",
       "      <td>NaN</td>\n",
       "      <td>...</td>\n",
       "      <td>0</td>\n",
       "      <td>0</td>\n",
       "      <td>0</td>\n",
       "      <td>0</td>\n",
       "      <td>0</td>\n",
       "      <td>0.0</td>\n",
       "      <td>0</td>\n",
       "      <td>4</td>\n",
       "      <td>0</td>\n",
       "      <td>This is so cool  It s like  would you want you...</td>\n",
       "    </tr>\n",
       "    <tr>\n",
       "      <td>1</td>\n",
       "      <td>59849</td>\n",
       "      <td>0.0</td>\n",
       "      <td>Thank you!! This would make my life a lot less...</td>\n",
       "      <td>0.0</td>\n",
       "      <td>0.0</td>\n",
       "      <td>0.0</td>\n",
       "      <td>0.0</td>\n",
       "      <td>0.0</td>\n",
       "      <td>NaN</td>\n",
       "      <td>NaN</td>\n",
       "      <td>...</td>\n",
       "      <td>0</td>\n",
       "      <td>0</td>\n",
       "      <td>0</td>\n",
       "      <td>0</td>\n",
       "      <td>0</td>\n",
       "      <td>0.0</td>\n",
       "      <td>0</td>\n",
       "      <td>4</td>\n",
       "      <td>0</td>\n",
       "      <td>Thank you  This would make my life a lot less ...</td>\n",
       "    </tr>\n",
       "  </tbody>\n",
       "</table>\n",
       "<p>2 rows × 47 columns</p>\n",
       "</div>"
      ],
      "text/plain": [
       "      id  target                                       comment_text  \\\n",
       "0  59848     0.0  This is so cool. It's like, 'would you want yo...   \n",
       "1  59849     0.0  Thank you!! This would make my life a lot less...   \n",
       "\n",
       "   severe_toxicity  obscene  identity_attack  insult  threat  asian  atheist  \\\n",
       "0              0.0      0.0              0.0     0.0     0.0    NaN      NaN   \n",
       "1              0.0      0.0              0.0     0.0     0.0    NaN      NaN   \n",
       "\n",
       "   ...  funny  wow  sad  likes  disagree  sexual_explicit  \\\n",
       "0  ...      0    0    0      0         0              0.0   \n",
       "1  ...      0    0    0      0         0              0.0   \n",
       "\n",
       "   identity_annotator_count  toxicity_annotator_count  isToxic  \\\n",
       "0                         0                         4        0   \n",
       "1                         0                         4        0   \n",
       "\n",
       "                                             comment  \n",
       "0  This is so cool  It s like  would you want you...  \n",
       "1  Thank you  This would make my life a lot less ...  \n",
       "\n",
       "[2 rows x 47 columns]"
      ]
     },
     "execution_count": 12,
     "metadata": {},
     "output_type": "execute_result"
    }
   ],
   "source": [
    "df['comment'] = df['comment_text'].apply(lambda x: remove_punc(x))\n",
    "# comment = df['comment_text'][:2].apply(lambda x: remove_punc(x))\n",
    "df.head(2)\n",
    "# comment[1]"
   ]
  },
  {
   "cell_type": "code",
   "execution_count": 13,
   "metadata": {},
   "outputs": [
    {
     "data": {
      "text/plain": [
       "(0    This is so cool. It's like, 'would you want yo...\n",
       " Name: comment_text, dtype: object,\n",
       " 0    This is so cool  It s like  would you want you...\n",
       " Name: comment, dtype: object)"
      ]
     },
     "execution_count": 13,
     "metadata": {},
     "output_type": "execute_result"
    }
   ],
   "source": [
    "df['comment_text'][:1], df['comment'][:1]"
   ]
  },
  {
   "cell_type": "code",
   "execution_count": 14,
   "metadata": {},
   "outputs": [],
   "source": [
    "df['comment_word'] = [[word for word in comt.split()] for comt in df['comment']]\n",
    "# comments = [comt for comt in df['comment'][:10]]"
   ]
  },
  {
   "cell_type": "code",
   "execution_count": 15,
   "metadata": {},
   "outputs": [
    {
     "data": {
      "text/plain": [
       "0          This is so cool. It's like, 'would you want yo...\n",
       "1          Thank you!! This would make my life a lot less...\n",
       "2          This is such an urgent design problem; kudos t...\n",
       "3          Is this something I'll be able to install on m...\n",
       "4                       haha you guys are a bunch of losers.\n",
       "                                 ...                        \n",
       "1804869    Maybe the tax on \"things\" would be collected w...\n",
       "1804870    What do you call people who STILL think the di...\n",
       "1804871    thank you ,,,right or wrong,,, i am following ...\n",
       "1804872    Anyone who is quoted as having the following e...\n",
       "1804873    Students defined as EBD are legally just as di...\n",
       "Name: comment_text, Length: 1804874, dtype: object"
      ]
     },
     "execution_count": 15,
     "metadata": {},
     "output_type": "execute_result"
    }
   ],
   "source": [
    "comments"
   ]
  },
  {
   "cell_type": "code",
   "execution_count": 24,
   "metadata": {},
   "outputs": [
    {
     "data": {
      "text/html": [
       "<div>\n",
       "<style scoped>\n",
       "    .dataframe tbody tr th:only-of-type {\n",
       "        vertical-align: middle;\n",
       "    }\n",
       "\n",
       "    .dataframe tbody tr th {\n",
       "        vertical-align: top;\n",
       "    }\n",
       "\n",
       "    .dataframe thead th {\n",
       "        text-align: right;\n",
       "    }\n",
       "</style>\n",
       "<table border=\"1\" class=\"dataframe\">\n",
       "  <thead>\n",
       "    <tr style=\"text-align: right;\">\n",
       "      <th></th>\n",
       "      <th>id</th>\n",
       "      <th>target</th>\n",
       "      <th>comment_text</th>\n",
       "      <th>severe_toxicity</th>\n",
       "      <th>obscene</th>\n",
       "      <th>identity_attack</th>\n",
       "      <th>insult</th>\n",
       "      <th>threat</th>\n",
       "      <th>asian</th>\n",
       "      <th>atheist</th>\n",
       "      <th>...</th>\n",
       "      <th>wow</th>\n",
       "      <th>sad</th>\n",
       "      <th>likes</th>\n",
       "      <th>disagree</th>\n",
       "      <th>sexual_explicit</th>\n",
       "      <th>identity_annotator_count</th>\n",
       "      <th>toxicity_annotator_count</th>\n",
       "      <th>isToxic</th>\n",
       "      <th>comment</th>\n",
       "      <th>comment_word</th>\n",
       "    </tr>\n",
       "  </thead>\n",
       "  <tbody>\n",
       "    <tr>\n",
       "      <td>11</td>\n",
       "      <td>239579</td>\n",
       "      <td>0.4400</td>\n",
       "      <td>This is a great story. Man. I wonder if the pe...</td>\n",
       "      <td>0.00</td>\n",
       "      <td>0.293333</td>\n",
       "      <td>0.0000</td>\n",
       "      <td>0.3200</td>\n",
       "      <td>0.0000</td>\n",
       "      <td>0.0</td>\n",
       "      <td>0.0</td>\n",
       "      <td>...</td>\n",
       "      <td>0</td>\n",
       "      <td>0</td>\n",
       "      <td>1</td>\n",
       "      <td>0</td>\n",
       "      <td>0.04</td>\n",
       "      <td>10</td>\n",
       "      <td>75</td>\n",
       "      <td>0</td>\n",
       "      <td>This is a great story  Man  I wonder if the pe...</td>\n",
       "      <td>[This, is, a, great, story, Man, I, wonder, if...</td>\n",
       "    </tr>\n",
       "    <tr>\n",
       "      <td>31</td>\n",
       "      <td>239607</td>\n",
       "      <td>0.9125</td>\n",
       "      <td>Yet call out all Muslims for the acts of a few...</td>\n",
       "      <td>0.05</td>\n",
       "      <td>0.237500</td>\n",
       "      <td>0.6125</td>\n",
       "      <td>0.8875</td>\n",
       "      <td>0.1125</td>\n",
       "      <td>0.0</td>\n",
       "      <td>0.0</td>\n",
       "      <td>...</td>\n",
       "      <td>0</td>\n",
       "      <td>0</td>\n",
       "      <td>1</td>\n",
       "      <td>0</td>\n",
       "      <td>0.00</td>\n",
       "      <td>4</td>\n",
       "      <td>80</td>\n",
       "      <td>1</td>\n",
       "      <td>Yet call out all Muslims for the acts of a few...</td>\n",
       "      <td>[Yet, call, out, all, Muslims, for, the, acts,...</td>\n",
       "    </tr>\n",
       "    <tr>\n",
       "      <td>51</td>\n",
       "      <td>239644</td>\n",
       "      <td>0.0000</td>\n",
       "      <td>Because the people who drive cars more are the...</td>\n",
       "      <td>0.00</td>\n",
       "      <td>0.000000</td>\n",
       "      <td>0.0000</td>\n",
       "      <td>0.0000</td>\n",
       "      <td>0.0000</td>\n",
       "      <td>0.0</td>\n",
       "      <td>0.0</td>\n",
       "      <td>...</td>\n",
       "      <td>0</td>\n",
       "      <td>0</td>\n",
       "      <td>0</td>\n",
       "      <td>0</td>\n",
       "      <td>0.00</td>\n",
       "      <td>4</td>\n",
       "      <td>4</td>\n",
       "      <td>0</td>\n",
       "      <td>Because the people who drive cars more are the...</td>\n",
       "      <td>[Because, the, people, who, drive, cars, more,...</td>\n",
       "    </tr>\n",
       "    <tr>\n",
       "      <td>58</td>\n",
       "      <td>239653</td>\n",
       "      <td>0.3000</td>\n",
       "      <td>Mormons have had a complicated relationship wi...</td>\n",
       "      <td>0.00</td>\n",
       "      <td>0.000000</td>\n",
       "      <td>0.3000</td>\n",
       "      <td>0.0000</td>\n",
       "      <td>0.0000</td>\n",
       "      <td>0.0</td>\n",
       "      <td>0.0</td>\n",
       "      <td>...</td>\n",
       "      <td>0</td>\n",
       "      <td>0</td>\n",
       "      <td>2</td>\n",
       "      <td>0</td>\n",
       "      <td>0.00</td>\n",
       "      <td>10</td>\n",
       "      <td>10</td>\n",
       "      <td>0</td>\n",
       "      <td>Mormons have had a complicated relationship wi...</td>\n",
       "      <td>[Mormons, have, had, a, complicated, relations...</td>\n",
       "    </tr>\n",
       "    <tr>\n",
       "      <td>111</td>\n",
       "      <td>239744</td>\n",
       "      <td>0.0000</td>\n",
       "      <td>I'm doing the same thing! :)</td>\n",
       "      <td>0.00</td>\n",
       "      <td>0.000000</td>\n",
       "      <td>0.0000</td>\n",
       "      <td>0.0000</td>\n",
       "      <td>0.0000</td>\n",
       "      <td>0.0</td>\n",
       "      <td>0.0</td>\n",
       "      <td>...</td>\n",
       "      <td>0</td>\n",
       "      <td>0</td>\n",
       "      <td>1</td>\n",
       "      <td>0</td>\n",
       "      <td>0.00</td>\n",
       "      <td>4</td>\n",
       "      <td>4</td>\n",
       "      <td>0</td>\n",
       "      <td>I m doing the same thing</td>\n",
       "      <td>[I, m, doing, the, same, thing]</td>\n",
       "    </tr>\n",
       "  </tbody>\n",
       "</table>\n",
       "<p>5 rows × 48 columns</p>\n",
       "</div>"
      ],
      "text/plain": [
       "         id  target                                       comment_text  \\\n",
       "11   239579  0.4400  This is a great story. Man. I wonder if the pe...   \n",
       "31   239607  0.9125  Yet call out all Muslims for the acts of a few...   \n",
       "51   239644  0.0000  Because the people who drive cars more are the...   \n",
       "58   239653  0.3000  Mormons have had a complicated relationship wi...   \n",
       "111  239744  0.0000                       I'm doing the same thing! :)   \n",
       "\n",
       "     severe_toxicity   obscene  identity_attack  insult  threat  asian  \\\n",
       "11              0.00  0.293333           0.0000  0.3200  0.0000    0.0   \n",
       "31              0.05  0.237500           0.6125  0.8875  0.1125    0.0   \n",
       "51              0.00  0.000000           0.0000  0.0000  0.0000    0.0   \n",
       "58              0.00  0.000000           0.3000  0.0000  0.0000    0.0   \n",
       "111             0.00  0.000000           0.0000  0.0000  0.0000    0.0   \n",
       "\n",
       "     atheist  ...  wow  sad  likes  disagree  sexual_explicit  \\\n",
       "11       0.0  ...    0    0      1         0             0.04   \n",
       "31       0.0  ...    0    0      1         0             0.00   \n",
       "51       0.0  ...    0    0      0         0             0.00   \n",
       "58       0.0  ...    0    0      2         0             0.00   \n",
       "111      0.0  ...    0    0      1         0             0.00   \n",
       "\n",
       "     identity_annotator_count  toxicity_annotator_count  isToxic  \\\n",
       "11                         10                        75        0   \n",
       "31                          4                        80        1   \n",
       "51                          4                         4        0   \n",
       "58                         10                        10        0   \n",
       "111                         4                         4        0   \n",
       "\n",
       "                                               comment  \\\n",
       "11   This is a great story  Man  I wonder if the pe...   \n",
       "31   Yet call out all Muslims for the acts of a few...   \n",
       "51   Because the people who drive cars more are the...   \n",
       "58   Mormons have had a complicated relationship wi...   \n",
       "111                         I m doing the same thing     \n",
       "\n",
       "                                          comment_word  \n",
       "11   [This, is, a, great, story, Man, I, wonder, if...  \n",
       "31   [Yet, call, out, all, Muslims, for, the, acts,...  \n",
       "51   [Because, the, people, who, drive, cars, more,...  \n",
       "58   [Mormons, have, had, a, complicated, relations...  \n",
       "111                    [I, m, doing, the, same, thing]  \n",
       "\n",
       "[5 rows x 48 columns]"
      ]
     },
     "execution_count": 24,
     "metadata": {},
     "output_type": "execute_result"
    }
   ],
   "source": [
    "df.head()"
   ]
  },
  {
   "cell_type": "code",
   "execution_count": 25,
   "metadata": {},
   "outputs": [
    {
     "data": {
      "text/plain": [
       "31         0.050000\n",
       "563        0.100000\n",
       "649        0.049383\n",
       "703        0.014706\n",
       "1597       0.200000\n",
       "             ...   \n",
       "1804386    0.200000\n",
       "1804405    0.100000\n",
       "1804478    0.013333\n",
       "1804524    0.033333\n",
       "1804532    0.100000\n",
       "Name: severe_toxicity, Length: 18045, dtype: float64"
      ]
     },
     "execution_count": 25,
     "metadata": {},
     "output_type": "execute_result"
    }
   ],
   "source": [
    "df[df['severe_toxicity'] > 0]['severe_toxicity']"
   ]
  },
  {
   "cell_type": "code",
   "execution_count": 26,
   "metadata": {},
   "outputs": [
    {
     "data": {
      "image/png": "[encoded data removed]",
      "text/plain": [
       "<Figure size 720x360 with 1 Axes>"
      ]
     },
     "metadata": {
      "needs_background": "light"
     },
     "output_type": "display_data"
    }
   ],
   "source": [
    "toxic_cmt = ['target', 'severe_toxicity', 'obscene', 'identity_attack', 'insult', 'threat']\n",
    "\n",
    "plt.figure(figsize=(10,5))\n",
    "\n",
    "for col in toxic_cmt[1:]:\n",
    "    g = sns.distplot(df[df[col] > 0][col], label=col, hist = False)    \n",
    "    \n",
    "plt.xlabel(\"Rate\", fontsize=14)\n",
    "plt.ylabel(\"Distribuition\", fontsize=14)\n",
    "plt.legend(loc=1, prop={'size': 13}) \n",
    "plt.title(\"\")\n",
    "plt.show()"
   ]
  },
  {
   "cell_type": "markdown",
   "metadata": {},
   "source": [
    "### SVM Model Baseline + TfIdf Default"
   ]
  },
  {
   "cell_type": "code",
   "execution_count": 29,
   "metadata": {},
   "outputs": [],
   "source": [
    "vectorizer = TfidfVectorizer()\n",
    "X = vectorizer.fit_transform(df[\"comment_text\"])\n",
    "y = df['isToxic']"
   ]
  },
  {
   "cell_type": "code",
   "execution_count": 30,
   "metadata": {},
   "outputs": [],
   "source": [
    "# print(X[:10])"
   ]
  },
  {
   "cell_type": "code",
   "execution_count": 31,
   "metadata": {},
   "outputs": [],
   "source": [
    "X_train, X_test, y_train, y_test = train_test_split(X, y, test_size=0.33, random_state=42)"
   ]
  },
  {
   "cell_type": "code",
   "execution_count": 32,
   "metadata": {},
   "outputs": [
    {
     "data": {
      "text/plain": [
       "SVC(C=1.0, cache_size=200, class_weight=None, coef0=0.0,\n",
       "  decision_function_shape='ovr', degree=3, gamma='auto', kernel='rbf',\n",
       "  max_iter=-1, probability=False, random_state=None, shrinking=True,\n",
       "  tol=0.001, verbose=False)"
      ]
     },
     "execution_count": 32,
     "metadata": {},
     "output_type": "execute_result"
    }
   ],
   "source": [
    "svc_clf1 = SVC(gamma='auto')\n",
    "svc_clf1.fit(X_train, y_train)"
   ]
  },
  {
   "cell_type": "code",
   "execution_count": 33,
   "metadata": {},
   "outputs": [
    {
     "data": {
      "text/plain": [
       "array([0, 0, 0, 0, 0, 0, 0, 0, 0, 0])"
      ]
     },
     "execution_count": 33,
     "metadata": {},
     "output_type": "execute_result"
    }
   ],
   "source": [
    "pred = svc_clf1.predict(X_test)\n",
    "pred[:10]"
   ]
  },
  {
   "cell_type": "code",
   "execution_count": 34,
   "metadata": {},
   "outputs": [
    {
     "name": "stdout",
     "output_type": "stream",
     "text": [
      "              precision    recall  f1-score   support\n",
      "\n",
      "           0       0.89      1.00      0.94     69308\n",
      "           1       0.00      0.00      0.00      8271\n",
      "\n",
      "   micro avg       0.89      0.89      0.89     77579\n",
      "   macro avg       0.45      0.50      0.47     77579\n",
      "weighted avg       0.80      0.89      0.84     77579\n",
      "\n",
      "\n",
      "Accuracy:   0.8933860967529873\n",
      "\n",
      "Precision:  0.0\n",
      "\n",
      "Recall:     0.0\n",
      "\n",
      "F1 Score:   0.0\n",
      "\n",
      "ROC AUC Score:  0.5\n"
     ]
    }
   ],
   "source": [
    "print(classification_report(y_test, pred))\n",
    "print(\"\\nAccuracy:  \", accuracy_score(y_test,pred))\n",
    "print(\"\\nPrecision: \", precision_score(y_test,pred))\n",
    "print(\"\\nRecall:    \", recall_score(y_test,pred))\n",
    "print(\"\\nF1 Score:  \", f1_score(y_test,pred))\n",
    "print(\"\\nROC AUC Score: \", roc_auc_score(y_test,pred))"
   ]
  },
  {
   "cell_type": "markdown",
   "metadata": {},
   "source": [
    "#### Since the dataset is imbalanced, the model seems to be learning for only majority class and not generalizing."
   ]
  },
  {
   "cell_type": "markdown",
   "metadata": {},
   "source": [
    "### With Undersampling"
   ]
  },
  {
   "cell_type": "code",
   "execution_count": 35,
   "metadata": {},
   "outputs": [
    {
     "name": "stderr",
     "output_type": "stream",
     "text": [
      "Using TensorFlow backend.\n"
     ]
    }
   ],
   "source": [
    "from imblearn.under_sampling import RandomUnderSampler\n",
    "from collections import Counter"
   ]
  },
  {
   "cell_type": "code",
   "execution_count": 36,
   "metadata": {},
   "outputs": [
    {
     "name": "stdout",
     "output_type": "stream",
     "text": [
      "[(0, 16871), (1, 16871)]\n"
     ]
    }
   ],
   "source": [
    "rus = RandomUnderSampler(random_state=0)\n",
    "X_resampled, y_resampled = rus.fit_resample(X_train, y_train)\n",
    "print(sorted(Counter(y_resampled).items()))"
   ]
  },
  {
   "cell_type": "markdown",
   "metadata": {},
   "source": [
    "#### SVC + TfIdf"
   ]
  },
  {
   "cell_type": "code",
   "execution_count": 37,
   "metadata": {},
   "outputs": [
    {
     "data": {
      "text/plain": [
       "SVC(C=1.0, cache_size=200, class_weight=None, coef0=0.0,\n",
       "  decision_function_shape='ovr', degree=3, gamma='auto', kernel='rbf',\n",
       "  max_iter=-1, probability=False, random_state=None, shrinking=True,\n",
       "  tol=0.001, verbose=False)"
      ]
     },
     "execution_count": 37,
     "metadata": {},
     "output_type": "execute_result"
    }
   ],
   "source": [
    "svc_clf2 = SVC(gamma='auto')\n",
    "svc_clf2.fit(X_resampled, y_resampled)"
   ]
  },
  {
   "cell_type": "code",
   "execution_count": 38,
   "metadata": {},
   "outputs": [
    {
     "name": "stdout",
     "output_type": "stream",
     "text": [
      "              precision    recall  f1-score   support\n",
      "\n",
      "           0       0.91      0.97      0.94     69308\n",
      "           1       0.43      0.16      0.23      8271\n",
      "\n",
      "   micro avg       0.89      0.89      0.89     77579\n",
      "   macro avg       0.67      0.57      0.59     77579\n",
      "weighted avg       0.86      0.89      0.86     77579\n",
      "\n",
      "\n",
      "Accuracy:   0.8879593704481883\n",
      "\n",
      "Precision:  0.43176661264181526\n",
      "\n",
      "Recall:     0.16104461371055495\n",
      "\n",
      "F1 Score:   0.23458964424092993\n",
      "\n",
      "ROC AUC Score:  0.5678758591147569\n"
     ]
    }
   ],
   "source": [
    "svc_pred = svc_clf2.predict(X_test)\n",
    "print(classification_report(y_test, svc_pred))\n",
    "print(\"\\nAccuracy:  \", accuracy_score(y_test,svc_pred))\n",
    "print(\"\\nPrecision: \", precision_score(y_test,svc_pred))\n",
    "print(\"\\nRecall:    \", recall_score(y_test,svc_pred))\n",
    "print(\"\\nF1 Score:  \", f1_score(y_test,svc_pred))\n",
    "print(\"\\nROC AUC Score: \", roc_auc_score(y_test,svc_pred))"
   ]
  },
  {
   "cell_type": "markdown",
   "metadata": {},
   "source": [
    "#### Multinomial NB + TfIDF "
   ]
  },
  {
   "cell_type": "code",
   "execution_count": 39,
   "metadata": {},
   "outputs": [
    {
     "data": {
      "text/plain": [
       "MultinomialNB(alpha=1.0, class_prior=None, fit_prior=True)"
      ]
     },
     "execution_count": 39,
     "metadata": {},
     "output_type": "execute_result"
    }
   ],
   "source": [
    "mnb = MultinomialNB()\n",
    "mnb.fit(X_resampled.toarray(), y_resampled)"
   ]
  },
  {
   "cell_type": "code",
   "execution_count": 40,
   "metadata": {},
   "outputs": [
    {
     "name": "stdout",
     "output_type": "stream",
     "text": [
      "              precision    recall  f1-score   support\n",
      "\n",
      "           0       0.97      0.70      0.82     69308\n",
      "           1       0.25      0.83      0.39      8271\n",
      "\n",
      "   micro avg       0.72      0.72      0.72     77579\n",
      "   macro avg       0.61      0.77      0.60     77579\n",
      "weighted avg       0.90      0.72      0.77     77579\n",
      "\n",
      "\n",
      "Accuracy:   0.71813248430632\n",
      "\n",
      "Precision:  0.2516440157825515\n",
      "\n",
      "Recall:     0.8327892636924193\n",
      "\n",
      "F1 Score:   0.38649945290800436\n",
      "\n",
      "ROC AUC Score:  0.768619483234217\n"
     ]
    }
   ],
   "source": [
    "mnb_pred = mnb.predict(X_test.toarray())\n",
    "print(classification_report(y_test, mnb_pred))\n",
    "print(\"\\nAccuracy:  \", accuracy_score(y_test,mnb_pred))\n",
    "print(\"\\nPrecision: \", precision_score(y_test,mnb_pred))\n",
    "print(\"\\nRecall:    \", recall_score(y_test,mnb_pred))\n",
    "print(\"\\nF1 Score:  \", f1_score(y_test,mnb_pred))\n",
    "print(\"\\nROC AUC Score: \", roc_auc_score(y_test,mnb_pred))"
   ]
  },
  {
   "cell_type": "markdown",
   "metadata": {},
   "source": [
    "#### Logisitic Regression + TfIDF "
   ]
  },
  {
   "cell_type": "code",
   "execution_count": 41,
   "metadata": {},
   "outputs": [
    {
     "data": {
      "text/plain": [
       "LogisticRegression(C=1.0, class_weight=None, dual=False, fit_intercept=True,\n",
       "          intercept_scaling=1, max_iter=100, multi_class='warn',\n",
       "          n_jobs=None, penalty='l2', random_state=0, solver='warn',\n",
       "          tol=0.0001, verbose=0, warm_start=False)"
      ]
     },
     "execution_count": 41,
     "metadata": {},
     "output_type": "execute_result"
    }
   ],
   "source": [
    "lr_clf = LogisticRegression(random_state=0)\n",
    "lr_clf.fit(X_resampled.toarray(), y_resampled)"
   ]
  },
  {
   "cell_type": "code",
   "execution_count": 42,
   "metadata": {},
   "outputs": [
    {
     "name": "stdout",
     "output_type": "stream",
     "text": [
      "              precision    recall  f1-score   support\n",
      "\n",
      "           0       0.97      0.84      0.90     69308\n",
      "           1       0.37      0.78      0.50      8271\n",
      "\n",
      "   micro avg       0.84      0.84      0.84     77579\n",
      "   macro avg       0.67      0.81      0.70     77579\n",
      "weighted avg       0.91      0.84      0.86     77579\n",
      "\n",
      "\n",
      "Accuracy:   0.8365665966305315\n",
      "\n",
      "Precision:  0.3720984215413185\n",
      "\n",
      "Recall:     0.7752387861201789\n",
      "\n",
      "F1 Score:   0.5028428028075129\n",
      "\n",
      "ROC AUC Score:  0.8095620259451821\n"
     ]
    }
   ],
   "source": [
    "lr_pred = lr_clf.predict(X_test.toarray())\n",
    "print(classification_report(y_test, lr_pred))\n",
    "print(\"\\nAccuracy:  \", accuracy_score(y_test,lr_pred))\n",
    "print(\"\\nPrecision: \", precision_score(y_test,lr_pred))\n",
    "print(\"\\nRecall:    \", recall_score(y_test,lr_pred))\n",
    "print(\"\\nF1 Score:  \", f1_score(y_test,lr_pred))\n",
    "print(\"\\nROC AUC Score: \", roc_auc_score(y_test,lr_pred))"
   ]
  },
  {
   "cell_type": "code",
   "execution_count": 43,
   "metadata": {},
   "outputs": [
    {
     "data": {
      "text/plain": [
       "0.8365665966305315"
      ]
     },
     "execution_count": 43,
     "metadata": {},
     "output_type": "execute_result"
    }
   ],
   "source": [
    "lr_clf.score(X_test,y_test)"
   ]
  },
  {
   "cell_type": "markdown",
   "metadata": {},
   "source": [
    "## Creating Doc2Vec using Word2Vec using our Data comments as corpus\n",
    "#### Used Logisitic Regression as best Model from Above approaches with implemented Word2Vec and Doc2Vec models below"
   ]
  },
  {
   "cell_type": "code",
   "execution_count": 16,
   "metadata": {},
   "outputs": [],
   "source": [
    "text_data = list(df['comment_word'])\n",
    "text_labl = list(df['isToxic'])"
   ]
  },
  {
   "cell_type": "code",
   "execution_count": 17,
   "metadata": {},
   "outputs": [],
   "source": [
    "train_corpa, test_corpa, train_labl, test_labl = train_test_split(text_data, text_labl, test_size=0.20, random_state=42)\n",
    "dev_corpa, test_corpa, dev_labl, test_labl = train_test_split(test_corpa, test_labl, test_size=0.5, random_state=42)"
   ]
  },
  {
   "cell_type": "code",
   "execution_count": 18,
   "metadata": {},
   "outputs": [],
   "source": [
    "def get_tokens(data, tokens_only=False):\n",
    "        for i, line in enumerate(data):\n",
    "            tokens = gensim.utils.simple_preprocess(str(line))\n",
    "            if tokens_only:\n",
    "                yield tokens\n",
    "            else:\n",
    "                # For training data, add tags\n",
    "                yield gensim.models.doc2vec.TaggedDocument(tokens, [i])\n",
    "\n",
    "train_corpus = list(get_tokens(train_corpa))\n",
    "dev_corpus = list(get_tokens(dev_corpa, tokens_only=True))\n",
    "test_corpus = list(get_tokens(test_corpa, tokens_only=True))"
   ]
  },
  {
   "cell_type": "code",
   "execution_count": 19,
   "metadata": {},
   "outputs": [
    {
     "data": {
      "text/plain": [
       "[TaggedDocument(words=['you', 'could', 'have', 'written', 'the', 'same', 'article', 'on', 'almost', 'any', 'government', 'in', 'eastern', 'europe', 'which', 'was', 'formerly', 'under', 'soviet', 'control', 'despite', 'the', 'protests', 'these', 'countries', 'seem', 'to', 'have', 'entrenched', 'anti', 'democratic', 'forces', 'that', 'allow', 'or', 'foster', 'authoritarian', 'regimes'], tags=[0]),\n",
       " TaggedDocument(words=['bet', 'he', 'never', 'even', 'met', 'the', 'cardinal', 'but', 'sees', 'himself', 'qualified', 'to', 'judge', 'his', 'heart', 'that', 'isn', 'christian', 'by', 'any', 'measure', 'msw', 'doesn', 'have', 'to', 'judge', 'cardinal', 'burke', 'heart', 'as', 'reporter', 'all', 'he', 'has', 'to', 'do', 'is', 'judge', 'his', 'public', 'statements', 'which', 'are', 'legion', 'that', 'reporter', 'job', 'and', 'there', 'nothing', 'remotely', 'un', 'christian', 'about', 'that', 'you', 'just', 'don', 'happen', 'to', 'agree', 'with', 'his', 'assessment', 'which', 'is', 'your', 'right', 'but', 'calling', 'him', 'unchristian', 'is', 'beyond', 'the', 'pale', 'and', 'needs', 'to', 'be', 'called', 'out', 'consider', 'yourself', 'called', 'out'], tags=[1])]"
      ]
     },
     "execution_count": 19,
     "metadata": {},
     "output_type": "execute_result"
    }
   ],
   "source": [
    "train_corpus[:2]"
   ]
  },
  {
   "cell_type": "markdown",
   "metadata": {},
   "source": [
    "#### Training the Doc2Vec Model - DBOW"
   ]
  },
  {
   "cell_type": "code",
   "execution_count": 20,
   "metadata": {},
   "outputs": [],
   "source": [
    "model = gensim.models.doc2vec.Doc2Vec(vector_size=50, min_count=2, epochs=40)\n",
    "model.build_vocab(train_corpus)"
   ]
  },
  {
   "cell_type": "code",
   "execution_count": 21,
   "metadata": {},
   "outputs": [],
   "source": [
    "model.train(train_corpus, total_examples=model.corpus_count, epochs=model.epochs)"
   ]
  },
  {
   "cell_type": "code",
   "execution_count": 22,
   "metadata": {},
   "outputs": [
    {
     "name": "stdout",
     "output_type": "stream",
     "text": [
      "[ 0.00264044 -0.06425013  0.01824333 -0.06988293  0.15924278 -0.2272466\n",
      "  0.05689173 -0.11891501  0.0115661   0.08029878  0.07864133  0.24438964\n",
      " -0.05900029 -0.18035857  0.25506708 -0.12202875 -0.01846324  0.11268026\n",
      "  0.07234659  0.10610412  0.09254782 -0.06079961 -0.02068415  0.11605784\n",
      "  0.01576202 -0.0026404  -0.20603605 -0.25814483 -0.247943   -0.26114696\n",
      " -0.16248511 -0.11315691  0.15987512 -0.09813859  0.1925585   0.18351832\n",
      "  0.08945988  0.17949322 -0.10235504 -0.4408163  -0.07361961  0.08574\n",
      "  0.10839611 -0.11692773 -0.2169842   0.04372453 -0.08532901 -0.08331253\n",
      "  0.29036078  0.04887911]\n"
     ]
    }
   ],
   "source": [
    "vec = model.infer_vector(['I','love','Rain'])\n",
    "print(vec)"
   ]
  },
  {
   "cell_type": "code",
   "execution_count": 23,
   "metadata": {},
   "outputs": [
    {
     "data": {
      "text/plain": [
       "130798"
      ]
     },
     "execution_count": 23,
     "metadata": {},
     "output_type": "execute_result"
    }
   ],
   "source": [
    "len(model.wv.vocab)"
   ]
  },
  {
   "cell_type": "code",
   "execution_count": 24,
   "metadata": {},
   "outputs": [],
   "source": [
    "def get_vectors(model, corpus, size):\n",
    "    vecs = np.zeros((len(corpus), size))\n",
    "    n = 0\n",
    "    for i, line in enumerate(corpus):\n",
    "#         prefix = 'all_' + str(i)\n",
    "        vecs[n] = model.infer_vector(line)\n",
    "        n += 1\n",
    "    return vecs"
   ]
  },
  {
   "cell_type": "code",
   "execution_count": 25,
   "metadata": {},
   "outputs": [
    {
     "data": {
      "text/plain": [
       "<function list.index>"
      ]
     },
     "execution_count": 25,
     "metadata": {},
     "output_type": "execute_result"
    }
   ],
   "source": [
    "train_corpa.index"
   ]
  },
  {
   "cell_type": "code",
   "execution_count": 26,
   "metadata": {},
   "outputs": [],
   "source": [
    "train_dbow_vec = get_vectors(model, train_corpa, 50)\n",
    "dev_dbow_vec = get_vectors(model, dev_corpa, 50)"
   ]
  },
  {
   "cell_type": "code",
   "execution_count": 27,
   "metadata": {},
   "outputs": [
    {
     "data": {
      "text/plain": [
       "0.9206258622504668"
      ]
     },
     "execution_count": 27,
     "metadata": {},
     "output_type": "execute_result"
    }
   ],
   "source": [
    "d2v_clf = LogisticRegression()\n",
    "d2v_clf.fit(train_dbow_vec, train_labl)\n",
    "d2v_clf.score(dev_dbow_vec, dev_labl)"
   ]
  },
  {
   "cell_type": "code",
   "execution_count": 28,
   "metadata": {},
   "outputs": [
    {
     "data": {
      "text/plain": [
       "array([-0.26390425,  0.13841978, -0.18758278,  0.46926081,  0.01815494,\n",
       "       -0.01073926, -0.10080203, -0.05455062, -0.10170925,  0.1846957 ,\n",
       "        0.04699005, -0.32230825, -0.34471092,  0.16553013, -0.35975713,\n",
       "        0.00181015, -0.03154617,  0.14961453,  0.16263207,  0.38777347,\n",
       "       -0.21193758,  0.39036404, -0.10975032,  0.0711976 ,  0.18429056,\n",
       "        0.02571488,  0.07280883, -0.29102445,  0.22823537,  0.15865779,\n",
       "       -0.16382711,  0.41145184, -0.21859561, -0.26880331,  0.1147712 ,\n",
       "        0.33203388, -0.28972715,  0.10082552, -0.09600827, -0.19072556,\n",
       "        0.11252749,  0.20447853, -0.19878906, -0.05061518,  0.25865658,\n",
       "       -0.23468343,  0.11225894, -0.06610347,  0.43061581,  0.00115754])"
      ]
     },
     "execution_count": 28,
     "metadata": {},
     "output_type": "execute_result"
    }
   ],
   "source": [
    "d2v_clf.coef_[0]"
   ]
  },
  {
   "cell_type": "code",
   "execution_count": 29,
   "metadata": {},
   "outputs": [
    {
     "name": "stdout",
     "output_type": "stream",
     "text": [
      "              precision    recall  f1-score   support\n",
      "\n",
      "           0       0.93      0.99      0.96    166006\n",
      "           1       0.54      0.08      0.14     14481\n",
      "\n",
      "   micro avg       0.92      0.92      0.92    180487\n",
      "   macro avg       0.73      0.54      0.55    180487\n",
      "weighted avg       0.89      0.92      0.89    180487\n",
      "\n"
     ]
    }
   ],
   "source": [
    "d2v_pred = d2v_clf.predict(dev_dbow_vec)\n",
    "print(classification_report(dev_labl, d2v_pred))"
   ]
  },
  {
   "cell_type": "code",
   "execution_count": 30,
   "metadata": {},
   "outputs": [
    {
     "name": "stdout",
     "output_type": "stream",
     "text": [
      "\n",
      "Accuracy:   0.9206258622504668\n",
      "\n",
      "Precision:  0.536436295251528\n",
      "\n",
      "Recall:     0.07879290104274567\n",
      "\n",
      "F1 Score:   0.13740366088631983\n",
      "\n",
      "ROC AUC Score:  0.5364266783444637\n"
     ]
    }
   ],
   "source": [
    "print(\"\\nAccuracy:  \", accuracy_score(dev_labl, d2v_pred))\n",
    "print(\"\\nPrecision: \", precision_score(dev_labl, d2v_pred))\n",
    "print(\"\\nRecall:    \", recall_score(dev_labl, d2v_pred))\n",
    "print(\"\\nF1 Score:  \", f1_score(dev_labl, d2v_pred))\n",
    "print(\"\\nROC AUC Score: \", roc_auc_score(dev_labl, d2v_pred))"
   ]
  },
  {
   "cell_type": "code",
   "execution_count": 31,
   "metadata": {},
   "outputs": [],
   "source": [
    "model.save('d2v_model_dbow_50.doc2vec')\n",
    "model.delete_temporary_training_data(keep_doctags_vectors=True, keep_inference=True)"
   ]
  },
  {
   "cell_type": "markdown",
   "metadata": {},
   "source": [
    "#### Doc2Vc - DM Mean"
   ]
  },
  {
   "cell_type": "code",
   "execution_count": 102,
   "metadata": {},
   "outputs": [],
   "source": [
    "from gensim.models import Doc2Vec"
   ]
  },
  {
   "cell_type": "code",
   "execution_count": 106,
   "metadata": {},
   "outputs": [],
   "source": [
    "model_dm = Doc2Vec(dm=1, dm_mean=1, size=50, window=2, negative=5, min_count=2, alpha=0.065, min_alpha=0.065, epochs=40)\n",
    "model_dm.build_vocab(train_corpus)"
   ]
  },
  {
   "cell_type": "code",
   "execution_count": 107,
   "metadata": {},
   "outputs": [],
   "source": [
    "model_dm.train(train_corpus, total_examples=model_dm.corpus_count, epochs=model_dm.epochs)"
   ]
  },
  {
   "cell_type": "code",
   "execution_count": 114,
   "metadata": {},
   "outputs": [
    {
     "data": {
      "text/plain": [
       "[('stand', 0.665729820728302),\n",
       " ('fall', 0.6356291770935059),\n",
       " ('trumpo', 0.6094433069229126),\n",
       " ('enroll', 0.607422411441803),\n",
       " ('sit', 0.6055045127868652),\n",
       " ('meddle', 0.6017077565193176),\n",
       " ('equivocations', 0.6003957986831665),\n",
       " ('gutenberg', 0.5950360894203186),\n",
       " ('melt', 0.5893077254295349),\n",
       " ('compensate', 0.5843961834907532)]"
      ]
     },
     "execution_count": 114,
     "metadata": {},
     "output_type": "execute_result"
    }
   ],
   "source": [
    "model_dm.most_similar('work')"
   ]
  },
  {
   "cell_type": "code",
   "execution_count": 115,
   "metadata": {},
   "outputs": [],
   "source": [
    "train_dm_vec = get_vectors(model_dm, train_corpa, 50)\n",
    "dev_dm_vec = get_vectors(model_dm, dev_corpa, 50)"
   ]
  },
  {
   "cell_type": "code",
   "execution_count": 116,
   "metadata": {},
   "outputs": [
    {
     "data": {
      "text/plain": [
       "0.8977412905695691"
      ]
     },
     "execution_count": 116,
     "metadata": {},
     "output_type": "execute_result"
    }
   ],
   "source": [
    "dm_clf = LogisticRegression()\n",
    "dm_clf.fit(train_dm_vec, train_labl)\n",
    "dm_clf.score(dev_dm_vec, dev_labl)"
   ]
  },
  {
   "cell_type": "code",
   "execution_count": 117,
   "metadata": {},
   "outputs": [
    {
     "name": "stdout",
     "output_type": "stream",
     "text": [
      "              precision    recall  f1-score   support\n",
      "\n",
      "           0       0.89      1.00      0.94     20966\n",
      "           1       0.00      0.00      0.00      2543\n",
      "\n",
      "   micro avg       0.89      0.89      0.89     23509\n",
      "   macro avg       0.45      0.50      0.47     23509\n",
      "weighted avg       0.80      0.89      0.84     23509\n",
      "\n"
     ]
    }
   ],
   "source": [
    "dm_pred = dm_clf.predict(dev_dm_vec)\n",
    "print(classification_report(dev_labl, dm_pred))"
   ]
  },
  {
   "cell_type": "code",
   "execution_count": 118,
   "metadata": {},
   "outputs": [],
   "source": [
    "model_dm.save('d2v_model_dm_50.doc2vec')\n",
    "model_dm.delete_temporary_training_data(keep_doctags_vectors=True, keep_inference=True)"
   ]
  },
  {
   "cell_type": "markdown",
   "metadata": {},
   "source": [
    "### Concatenating Vectors"
   ]
  },
  {
   "cell_type": "code",
   "execution_count": 119,
   "metadata": {},
   "outputs": [],
   "source": [
    "model_dbow = Doc2Vec.load('d2v_model_dbow_50.doc2vec')\n",
    "model_dm = Doc2Vec.load('d2v_model_dm_50.doc2vec')"
   ]
  },
  {
   "cell_type": "code",
   "execution_count": 120,
   "metadata": {},
   "outputs": [],
   "source": [
    "def concat_vec(model1,model2, corpus, size):\n",
    "    vector = np.zeros((len(corpus), size))\n",
    "    n = 0\n",
    "    for i, line in enumerate(corpus):\n",
    "        vector[n] = np.append(model1.infer_vector(line),model2.infer_vector(line))\n",
    "        n += 1\n",
    "    return vector"
   ]
  },
  {
   "cell_type": "code",
   "execution_count": 121,
   "metadata": {},
   "outputs": [],
   "source": [
    "train_dbdm_vec = concat_vec(model_dbow, model_dm, train_corpa, 100)\n",
    "dev_dbdm_vec = concat_vec(model_dbow, model_dm, dev_corpa, 100)"
   ]
  },
  {
   "cell_type": "code",
   "execution_count": 124,
   "metadata": {},
   "outputs": [
    {
     "data": {
      "text/plain": [
       "0.8976562167680463"
      ]
     },
     "execution_count": 124,
     "metadata": {},
     "output_type": "execute_result"
    }
   ],
   "source": [
    "dbdm_clf = LogisticRegression()\n",
    "dbdm_clf.fit(train_dbdm_vec, train_labl)\n",
    "dbdm_clf.score(dev_dbdm_vec, dev_labl)"
   ]
  },
  {
   "cell_type": "code",
   "execution_count": 125,
   "metadata": {},
   "outputs": [
    {
     "name": "stdout",
     "output_type": "stream",
     "text": [
      "              precision    recall  f1-score   support\n",
      "\n",
      "           0       0.90      0.99      0.95     21076\n",
      "           1       0.53      0.10      0.17      2433\n",
      "\n",
      "   micro avg       0.90      0.90      0.90     23509\n",
      "   macro avg       0.72      0.54      0.56     23509\n",
      "weighted avg       0.87      0.90      0.86     23509\n",
      "\n"
     ]
    }
   ],
   "source": [
    "dbdm_pred = dbdm_clf.predict(dev_dbdm_vec)\n",
    "print(classification_report(dev_labl, dbdm_pred))"
   ]
  },
  {
   "cell_type": "markdown",
   "metadata": {},
   "source": [
    "### Neural Net using Word2Vec"
   ]
  },
  {
   "cell_type": "code",
   "execution_count": 32,
   "metadata": {},
   "outputs": [],
   "source": [
    "### Initial Data Processing\n",
    "df1 = pd.read_csv(\"data/train.csv\")\n",
    "# 0 -> Non-Toxic; 1 -> Toxic\n",
    "df1['isToxic'] = [1 if x >= 0.5 else 0 for x in df1['target']]\n",
    "# df1['comment_text'] = [[word for word in comt.split()] for comt in df1['comment_text']]\n",
    "df1['comment_text'] = [preprocessing.text.text_to_word_sequence(comt, filters='!\"#$%&()*+,-./:;<=>?@[\\\\]^_`{|}~\\t\\n', lower=False, split=' ')\n",
    "                      for comt in df1['comment_text']]"
   ]
  },
  {
   "cell_type": "code",
   "execution_count": 33,
   "metadata": {},
   "outputs": [
    {
     "data": {
      "text/plain": [
       "0    [This, is, so, cool, It's, like, 'would, you, ...\n",
       "1    [Thank, you, This, would, make, my, life, a, l...\n",
       "Name: comment_text, dtype: object"
      ]
     },
     "execution_count": 33,
     "metadata": {},
     "output_type": "execute_result"
    }
   ],
   "source": [
    "df1['comment_text'][:2]"
   ]
  },
  {
   "cell_type": "code",
   "execution_count": 34,
   "metadata": {},
   "outputs": [
    {
     "name": "stdout",
     "output_type": "stream",
     "text": [
      "1804874\n",
      "1804874\n"
     ]
    }
   ],
   "source": [
    "df2 = df1[['comment_text','isToxic']]\n",
    "print(len(df2))\n",
    "df2.dropna(axis=0,inplace=True)\n",
    "print(len(df2))"
   ]
  },
  {
   "cell_type": "code",
   "execution_count": 35,
   "metadata": {},
   "outputs": [
    {
     "name": "stdout",
     "output_type": "stream",
     "text": [
      "Toxic:  144334\n",
      "Non-toxic:  1660540\n"
     ]
    }
   ],
   "source": [
    "print(\"Toxic: \", len(df2[df2['isToxic'] == 1]))\n",
    "print(\"Non-toxic: \", len(df2[df2['isToxic'] == 0]))"
   ]
  },
  {
   "cell_type": "code",
   "execution_count": 36,
   "metadata": {},
   "outputs": [],
   "source": [
    "#### dropping rows from Non-toxic to balance the dataset 50:50\n",
    "n = len(df2[df2['isToxic'] == 0]) - len(df2[df2['isToxic'] == 1])\n",
    "drop_indices = np.random.choice(df2[df2['isToxic'] == 0].index, n, replace=False)\n",
    "df3 = df2.drop(drop_indices)"
   ]
  },
  {
   "cell_type": "code",
   "execution_count": 37,
   "metadata": {},
   "outputs": [
    {
     "name": "stdout",
     "output_type": "stream",
     "text": [
      "Toxic:  144334\n",
      "Non-toxic:  144334\n",
      "288668\n"
     ]
    }
   ],
   "source": [
    "print(\"Toxic: \", len(df3[df3['isToxic'] == 1]))\n",
    "print(\"Non-toxic: \", len(df3[df3['isToxic'] == 0]))\n",
    "print(len(df3))"
   ]
  },
  {
   "cell_type": "code",
   "execution_count": 38,
   "metadata": {},
   "outputs": [],
   "source": [
    "### Split Dataset into Train and Dev\n",
    "cmtX = df3.comment_text\n",
    "toxy = df3.isToxic\n",
    "# X_train, X_dev, y_train, y_dev = train_test_split(cmtX, toxy, test_size=0.10, random_state=42)\n",
    "X_train, X_test, y_train, y_test = train_test_split(cmtX, toxy, test_size=0.20, random_state=42)\n",
    "X_dev, X_test, y_dev, y_test = train_test_split(X_test, y_test, test_size=0.10, random_state=42)"
   ]
  },
  {
   "cell_type": "code",
   "execution_count": 187,
   "metadata": {},
   "outputs": [
    {
     "name": "stdout",
     "output_type": "stream",
     "text": [
      "Train data Toxic/Non-Toxic split ratio:  0.9994228016438609\n",
      "Dev data Toxic/Non-Toxic split ratio:  1.0052097804945819\n"
     ]
    }
   ],
   "source": [
    "print(\"Train data Toxic/Non-Toxic split ratio: \", (len(X_train[y_train==1])/len(X_train[y_train==0])))\n",
    "print(\"Dev data Toxic/Non-Toxic split ratio: \", (len(X_dev[y_dev==1])/len(X_dev[y_dev==0])))\n",
    "print(\"Test data Toxic/Non-Toxic split ratio: \", (len(X_test[y_test==1])/len(X_test[y_test==0])))"
   ]
  },
  {
   "cell_type": "code",
   "execution_count": 188,
   "metadata": {},
   "outputs": [
    {
     "data": {
      "text/plain": [
       "[TaggedDocument(words=['women', 'should', 'go', 'back', 'to', 'the', 'kitchen'], tags=[0]),\n",
       " TaggedDocument(words=['trump', 'go', 'home', 'ur', 'drunk'], tags=[1])]"
      ]
     },
     "execution_count": 188,
     "metadata": {},
     "output_type": "execute_result"
    }
   ],
   "source": [
    "corpa = list(get_tokens(pd.concat([X_train,X_dev])))\n",
    "# dev_corpus = list(get_tokens(X_dev, tokens_only=True))\n",
    "corpa[:2]"
   ]
  },
  {
   "cell_type": "code",
   "execution_count": 189,
   "metadata": {},
   "outputs": [],
   "source": [
    "from gensim.models.word2vec import Word2Vec"
   ]
  },
  {
   "cell_type": "code",
   "execution_count": 190,
   "metadata": {},
   "outputs": [
    {
     "data": {
      "text/plain": [
       "(435044632, 557737760)"
      ]
     },
     "execution_count": 190,
     "metadata": {},
     "output_type": "execute_result"
    }
   ],
   "source": [
    "model_cbow = Word2Vec(sg=0, size=100, window=2, negative=5, min_count=2, alpha=0.065, min_alpha=0.065)\n",
    "model_cbow.build_vocab([x.words for x in corpa])\n",
    "model_cbow.train([x.words for x in corpa], total_examples=model_cbow.corpus_count, epochs=40)"
   ]
  },
  {
   "cell_type": "code",
   "execution_count": 191,
   "metadata": {},
   "outputs": [
    {
     "data": {
      "text/plain": [
       "(435047066, 557737760)"
      ]
     },
     "execution_count": 191,
     "metadata": {},
     "output_type": "execute_result"
    }
   ],
   "source": [
    "model_sg = Word2Vec(sg=1, size=100, window=2, negative=5, min_count=2, alpha=0.065, min_alpha=0.065)\n",
    "model_sg.build_vocab([x.words for x in corpa])\n",
    "model_sg.train([x.words for x in corpa], total_examples=model_sg.corpus_count, epochs=40)"
   ]
  },
  {
   "cell_type": "code",
   "execution_count": 192,
   "metadata": {},
   "outputs": [],
   "source": [
    "model_cbow.save('w2v_model_cbow_100.word2vec')\n",
    "model_sg.save('w2v_model_sg_100.word2vec')"
   ]
  },
  {
   "cell_type": "code",
   "execution_count": 193,
   "metadata": {},
   "outputs": [
    {
     "data": {
      "text/plain": [
       "(63984, 63984)"
      ]
     },
     "execution_count": 193,
     "metadata": {},
     "output_type": "execute_result"
    }
   ],
   "source": [
    "len(model_cbow.wv.vocab.keys()), len(model_sg.wv.vocab.keys())"
   ]
  },
  {
   "cell_type": "code",
   "execution_count": 39,
   "metadata": {},
   "outputs": [],
   "source": [
    "## reading in the model as Keyed Vectors\n",
    "from gensim.models import KeyedVectors\n",
    "imodel_cbow = KeyedVectors.load('w2v_model_cbow_100.word2vec')\n",
    "imodel_sg = KeyedVectors.load('w2v_model_sg_100.word2vec')"
   ]
  },
  {
   "cell_type": "code",
   "execution_count": 41,
   "metadata": {},
   "outputs": [
    {
     "data": {
      "text/plain": [
       "(64257, 64257)"
      ]
     },
     "execution_count": 41,
     "metadata": {},
     "output_type": "execute_result"
    }
   ],
   "source": [
    "len(imodel_cbow.wv.vocab), len(imodel_sg.wv.vocab)"
   ]
  },
  {
   "cell_type": "code",
   "execution_count": 195,
   "metadata": {},
   "outputs": [
    {
     "data": {
      "text/plain": [
       "(63984, 63984)"
      ]
     },
     "execution_count": 195,
     "metadata": {},
     "output_type": "execute_result"
    }
   ],
   "source": [
    "len(imodel_cbow.wv.vocab.keys()), len(imodel_sg.wv.vocab.keys())"
   ]
  },
  {
   "cell_type": "code",
   "execution_count": 42,
   "metadata": {},
   "outputs": [
    {
     "name": "stdout",
     "output_type": "stream",
     "text": [
      "Number of Word Vectors:  64257\n"
     ]
    }
   ],
   "source": [
    "### concatenating the vectors\n",
    "word_embedding = {}\n",
    "for w in imodel_cbow.wv.vocab.keys():\n",
    "    word_embedding[w] = np.append(imodel_cbow.wv[w],imodel_sg.wv[w])\n",
    "print(\"Number of Word Vectors: \", len(word_embedding))"
   ]
  },
  {
   "cell_type": "markdown",
   "metadata": {},
   "source": [
    "#### Tokenizing the comment data"
   ]
  },
  {
   "cell_type": "code",
   "execution_count": 43,
   "metadata": {},
   "outputs": [],
   "source": [
    "tokenizer = preprocessing.text.Tokenizer(num_words=100000)\n",
    "tokenizer.fit_on_texts(X_train)\n",
    "encoded_seq = tokenizer.texts_to_sequences(X_train)"
   ]
  },
  {
   "cell_type": "code",
   "execution_count": 44,
   "metadata": {},
   "outputs": [
    {
     "name": "stdout",
     "output_type": "stream",
     "text": [
      "['His', 'picture', 'looks', 'similar', 'to', 'the', 'drawing', 'of', 'the', 'person', 'of', 'interest', 'they', 'released', 'this', 'summer']\n",
      "['Conspicuously', 'absent', 'from', 'the', 'information', 'released', 'by', 'the', 'Navy', 'is', 'simple', 'presence', 'absence', 'You', 'can', 'almost', 'never', 'get', '0', 'of', 'anything', \"That's\", 'not', 'conspicuous', \"it's\", 'basic', 'science', 'I', 'would', 'be', 'concerned', 'at', 'any', 'detection', 'of', 'these', 'chemicals', 'You', 'can', 'almost', 'never', 'get', '0', 'of', 'anything', \"That's\", 'not', 'a', 'reason', 'to', 'be', 'concerned', \"it's\", 'basic', 'science']\n",
      "['You', 'are', 'ungrateful', 'yet', 'sure', 'seem', 'to', 'utilize', 'the', 'Anchorage', 'Daily', 'News', 'services', 'A', 'little', 'hypocritical', \"don't\", 'you', 'think']\n"
     ]
    }
   ],
   "source": [
    "for x in X_train[:3]:\n",
    "    print(x)"
   ]
  },
  {
   "cell_type": "code",
   "execution_count": 45,
   "metadata": {},
   "outputs": [
    {
     "data": {
      "text/plain": [
       "[[38, 1483, 699, 1050, 2, 1, 5653, 5, 1, 203, 5, 636, 19, 2248, 15, 2716],\n",
       " [22280,\n",
       "  6268,\n",
       "  39,\n",
       "  1,\n",
       "  640,\n",
       "  2248,\n",
       "  35,\n",
       "  1,\n",
       "  3295,\n",
       "  6,\n",
       "  627,\n",
       "  2784,\n",
       "  5637,\n",
       "  9,\n",
       "  53,\n",
       "  535,\n",
       "  115,\n",
       "  59,\n",
       "  1578,\n",
       "  5,\n",
       "  165,\n",
       "  128,\n",
       "  14,\n",
       "  18271,\n",
       "  61,\n",
       "  1343,\n",
       "  777,\n",
       "  11,\n",
       "  47,\n",
       "  16,\n",
       "  1118,\n",
       "  42,\n",
       "  68,\n",
       "  15054,\n",
       "  5,\n",
       "  75,\n",
       "  5948,\n",
       "  9,\n",
       "  53,\n",
       "  535,\n",
       "  115,\n",
       "  59,\n",
       "  1578,\n",
       "  5,\n",
       "  165,\n",
       "  128,\n",
       "  14,\n",
       "  4,\n",
       "  310,\n",
       "  2,\n",
       "  16,\n",
       "  1118,\n",
       "  61,\n",
       "  1343,\n",
       "  777]]"
      ]
     },
     "execution_count": 45,
     "metadata": {},
     "output_type": "execute_result"
    }
   ],
   "source": [
    "encoded_seq[:2]"
   ]
  },
  {
   "cell_type": "code",
   "execution_count": 46,
   "metadata": {},
   "outputs": [
    {
     "name": "stdout",
     "output_type": "stream",
     "text": [
      "Max Length:  217\n"
     ]
    }
   ],
   "source": [
    "### pad the sequence\n",
    "max_len = 0\n",
    "for x in encoded_seq:\n",
    "    if len(x) > max_len:\n",
    "        max_len = len(x)\n",
    "print(\"Max Length: \", max_len)"
   ]
  },
  {
   "cell_type": "code",
   "execution_count": 47,
   "metadata": {},
   "outputs": [
    {
     "name": "stdout",
     "output_type": "stream",
     "text": [
      "Train Tensor data shape:  (230934, 217)\n"
     ]
    }
   ],
   "source": [
    "X_train_seq = preprocessing.sequence.pad_sequences(encoded_seq, maxlen=max_len)\n",
    "print(\"Train Tensor data shape: \", X_train_seq.shape)"
   ]
  },
  {
   "cell_type": "code",
   "execution_count": 48,
   "metadata": {
    "scrolled": true
   },
   "outputs": [
    {
     "data": {
      "text/plain": [
       "array([[    0,     0,     0,     0,     0,     0,     0,     0,     0,\n",
       "            0,     0,     0,     0,     0,     0,     0,     0,     0,\n",
       "            0,     0,     0,     0,     0,     0,     0,     0,     0,\n",
       "            0,     0,     0,     0,     0,     0,     0,     0,     0,\n",
       "            0,     0,     0,     0,     0,     0,     0,     0,     0,\n",
       "            0,     0,     0,     0,     0,     0,     0,     0,     0,\n",
       "            0,     0,     0,     0,     0,     0,     0,     0,     0,\n",
       "            0,     0,     0,     0,     0,     0,     0,     0,     0,\n",
       "            0,     0,     0,     0,     0,     0,     0,     0,     0,\n",
       "            0,     0,     0,     0,     0,     0,     0,     0,     0,\n",
       "            0,     0,     0,     0,     0,     0,     0,     0,     0,\n",
       "            0,     0,     0,     0,     0,     0,     0,     0,     0,\n",
       "            0,     0,     0,     0,     0,     0,     0,     0,     0,\n",
       "            0,     0,     0,     0,     0,     0,     0,     0,     0,\n",
       "            0,     0,     0,     0,     0,     0,     0,     0,     0,\n",
       "            0,     0,     0,     0,     0,     0,     0,     0,     0,\n",
       "            0,     0,     0,     0,     0,     0,     0,     0,     0,\n",
       "            0,     0,     0,     0,     0,     0,     0,     0,     0,\n",
       "            0,     0,     0,     0,     0,     0,     0,     0,     0,\n",
       "            0,     0,     0,     0,     0,     0,     0,     0,     0,\n",
       "            0,     0,     0,     0,     0,     0,     0,     0,     0,\n",
       "            0,     0,     0,     0,     0,     0,     0,     0,     0,\n",
       "            0,     0,     0,    38,  1483,   699,  1050,     2,     1,\n",
       "         5653,     5,     1,   203,     5,   636,    19,  2248,    15,\n",
       "         2716],\n",
       "       [    0,     0,     0,     0,     0,     0,     0,     0,     0,\n",
       "            0,     0,     0,     0,     0,     0,     0,     0,     0,\n",
       "            0,     0,     0,     0,     0,     0,     0,     0,     0,\n",
       "            0,     0,     0,     0,     0,     0,     0,     0,     0,\n",
       "            0,     0,     0,     0,     0,     0,     0,     0,     0,\n",
       "            0,     0,     0,     0,     0,     0,     0,     0,     0,\n",
       "            0,     0,     0,     0,     0,     0,     0,     0,     0,\n",
       "            0,     0,     0,     0,     0,     0,     0,     0,     0,\n",
       "            0,     0,     0,     0,     0,     0,     0,     0,     0,\n",
       "            0,     0,     0,     0,     0,     0,     0,     0,     0,\n",
       "            0,     0,     0,     0,     0,     0,     0,     0,     0,\n",
       "            0,     0,     0,     0,     0,     0,     0,     0,     0,\n",
       "            0,     0,     0,     0,     0,     0,     0,     0,     0,\n",
       "            0,     0,     0,     0,     0,     0,     0,     0,     0,\n",
       "            0,     0,     0,     0,     0,     0,     0,     0,     0,\n",
       "            0,     0,     0,     0,     0,     0,     0,     0,     0,\n",
       "            0,     0,     0,     0,     0,     0,     0,     0,     0,\n",
       "            0,     0,     0,     0,     0,     0,     0,     0,     0,\n",
       "        22280,  6268,    39,     1,   640,  2248,    35,     1,  3295,\n",
       "            6,   627,  2784,  5637,     9,    53,   535,   115,    59,\n",
       "         1578,     5,   165,   128,    14, 18271,    61,  1343,   777,\n",
       "           11,    47,    16,  1118,    42,    68, 15054,     5,    75,\n",
       "         5948,     9,    53,   535,   115,    59,  1578,     5,   165,\n",
       "          128,    14,     4,   310,     2,    16,  1118,    61,  1343,\n",
       "          777],\n",
       "       [    0,     0,     0,     0,     0,     0,     0,     0,     0,\n",
       "            0,     0,     0,     0,     0,     0,     0,     0,     0,\n",
       "            0,     0,     0,     0,     0,     0,     0,     0,     0,\n",
       "            0,     0,     0,     0,     0,     0,     0,     0,     0,\n",
       "            0,     0,     0,     0,     0,     0,     0,     0,     0,\n",
       "            0,     0,     0,     0,     0,     0,     0,     0,     0,\n",
       "            0,     0,     0,     0,     0,     0,     0,     0,     0,\n",
       "            0,     0,     0,     0,     0,     0,     0,     0,     0,\n",
       "            0,     0,     0,     0,     0,     0,     0,     0,     0,\n",
       "            0,     0,     0,     0,     0,     0,     0,     0,     0,\n",
       "            0,     0,     0,     0,     0,     0,     0,     0,     0,\n",
       "            0,     0,     0,     0,     0,     0,     0,     0,     0,\n",
       "            0,     0,     0,     0,     0,     0,     0,     0,     0,\n",
       "            0,     0,     0,     0,     0,     0,     0,     0,     0,\n",
       "            0,     0,     0,     0,     0,     0,     0,     0,     0,\n",
       "            0,     0,     0,     0,     0,     0,     0,     0,     0,\n",
       "            0,     0,     0,     0,     0,     0,     0,     0,     0,\n",
       "            0,     0,     0,     0,     0,     0,     0,     0,     0,\n",
       "            0,     0,     0,     0,     0,     0,     0,     0,     0,\n",
       "            0,     0,     0,     0,     0,     0,     0,     0,     0,\n",
       "            0,     0,     0,     0,     0,     0,     0,     0,     0,\n",
       "            0,     0,     0,     0,     0,     0,     0,     0,     0,\n",
       "            9,    13,  9526,   238,   184,   420,     2, 10844,     1,\n",
       "         1030,  1139,   177,   888,     4,   193,  1640,    56,     9,\n",
       "           74]], dtype=int32)"
      ]
     },
     "execution_count": 48,
     "metadata": {},
     "output_type": "execute_result"
    }
   ],
   "source": [
    "X_train_seq[:3]"
   ]
  },
  {
   "cell_type": "code",
   "execution_count": 49,
   "metadata": {},
   "outputs": [
    {
     "name": "stdout",
     "output_type": "stream",
     "text": [
      "Train Tensor data shape:  (51960, 217)\n"
     ]
    }
   ],
   "source": [
    "### Similar transformation for the Development Data\n",
    "dev_encoded_seq = tokenizer.texts_to_sequences(X_dev)\n",
    "X_dev_seq = preprocessing.sequence.pad_sequences(dev_encoded_seq, maxlen=max_len)\n",
    "print(\"Train Tensor data shape: \", X_dev_seq.shape)"
   ]
  },
  {
   "cell_type": "code",
   "execution_count": 50,
   "metadata": {},
   "outputs": [],
   "source": [
    "max_word = 100000\n",
    "word_embedding_mat = np.zeros((max_word, 200))\n",
    "for word, i in tokenizer.word_index.items():\n",
    "    if i >= max_word:\n",
    "        continue\n",
    "    vector = word_embedding.get(word)\n",
    "    if vector is not None:\n",
    "        word_embedding_mat[i] = vector"
   ]
  },
  {
   "cell_type": "code",
   "execution_count": 53,
   "metadata": {},
   "outputs": [
    {
     "data": {
      "text/plain": [
       "True"
      ]
     },
     "execution_count": 53,
     "metadata": {},
     "output_type": "execute_result"
    }
   ],
   "source": [
    "np.array_equal(word_embedding_mat[38] ,word_embedding.get('his'))"
   ]
  },
  {
   "cell_type": "markdown",
   "metadata": {},
   "source": [
    "### Neural Networks"
   ]
  },
  {
   "cell_type": "code",
   "execution_count": 250,
   "metadata": {},
   "outputs": [],
   "source": [
    "import numpy as np\n",
    "from tensorflow.keras.models import Sequential\n",
    "from tensorflow.keras.layers import Dense, Dropout, Activation\n",
    "from tensorflow.keras.layers import Embedding\n",
    "from tensorflow.keras.layers import LSTM, Bidirectional\n",
    "from tensorflow.keras.layers import Conv1D, MaxPooling1D, GlobalMaxPooling1D"
   ]
  },
  {
   "cell_type": "code",
   "execution_count": 54,
   "metadata": {},
   "outputs": [],
   "source": [
    "# Embedding Parameters\n",
    "max_features = 100000\n",
    "maxlen = max_len # value - 311\n",
    "embedding_size = 200\n",
    "\n",
    "# Convolution Parameters\n",
    "kernel_size = 2\n",
    "filters = 100\n",
    "pool_size = 4\n",
    "\n",
    "# Training Paramters\n",
    "batch_size = 50\n",
    "epochs = 4\n",
    "\n",
    "# LSTM\n",
    "lstm_output_size = 70"
   ]
  },
  {
   "cell_type": "markdown",
   "metadata": {},
   "source": [
    "#### MLP Binary Classification Model"
   ]
  },
  {
   "cell_type": "code",
   "execution_count": 251,
   "metadata": {},
   "outputs": [
    {
     "name": "stdout",
     "output_type": "stream",
     "text": [
      "Model: \"sequential_16\"\n",
      "_________________________________________________________________\n",
      "Layer (type)                 Output Shape              Param #   \n",
      "=================================================================\n",
      "embedding_18 (Embedding)     (None, 311, 200)          20000000  \n",
      "_________________________________________________________________\n",
      "flatten_1 (Flatten)          (None, 62200)             0         \n",
      "_________________________________________________________________\n",
      "dense_19 (Dense)             (None, 64)                3980864   \n",
      "_________________________________________________________________\n",
      "dropout_17 (Dropout)         (None, 64)                0         \n",
      "_________________________________________________________________\n",
      "dense_20 (Dense)             (None, 64)                4160      \n",
      "_________________________________________________________________\n",
      "dropout_18 (Dropout)         (None, 64)                0         \n",
      "_________________________________________________________________\n",
      "dense_21 (Dense)             (None, 1)                 65        \n",
      "=================================================================\n",
      "Total params: 23,985,089\n",
      "Trainable params: 23,985,089\n",
      "Non-trainable params: 0\n",
      "_________________________________________________________________\n"
     ]
    }
   ],
   "source": [
    "model_mlp = Sequential()\n",
    "model_mlp.add(Embedding(max_features, embedding_size, weights=[word_embedding_mat], input_length=maxlen))\n",
    "model_mlp.add(Flatten())\n",
    "model_mlp.add(Dense(64, activation='relu'))\n",
    "model_mlp.add(Dropout(0.5))\n",
    "model_mlp.add(Dense(64, activation='relu'))\n",
    "model_mlp.add(Dropout(0.5))\n",
    "model_mlp.add(Dense(1, activation='sigmoid'))\n",
    "model_mlp.summary()"
   ]
  },
  {
   "cell_type": "code",
   "execution_count": 252,
   "metadata": {},
   "outputs": [
    {
     "name": "stdout",
     "output_type": "stream",
     "text": [
      "Epoch 1/4\n",
      "259801/259801 [==============================] - 1225s 5ms/sample - loss: 0.4394 - acc: 0.7982\n",
      "Epoch 2/4\n",
      "259801/259801 [==============================] - 1237s 5ms/sample - loss: 0.2967 - acc: 0.8803\n",
      "Epoch 3/4\n",
      "259801/259801 [==============================] - 1238s 5ms/sample - loss: 0.2332 - acc: 0.9091\n",
      "Epoch 4/4\n",
      "259801/259801 [==============================] - 1239s 5ms/sample - loss: 0.1762 - acc: 0.9313\n",
      "28867/28867 [==============================] - 1s 42us/sample - loss: 0.4225 - acc: 0.8598\n",
      "Dev score:  [0.4225402738739358, 0.85977066]\n",
      "Dev accuracy:  0.86912394\n"
     ]
    }
   ],
   "source": [
    "model_mlp.compile(loss='binary_crossentropy', optimizer='adam', metrics=['accuracy'])\n",
    "model_mlp.fit(X_train_seq, y_train, epochs=epochs, batch_size=batch_size)"
   ]
  },
  {
   "cell_type": "code",
   "execution_count": 276,
   "metadata": {},
   "outputs": [
    {
     "data": {
      "text/plain": [
       "array([[9.9884105e-01],\n",
       "       [7.2611254e-01],\n",
       "       [4.1723251e-07],\n",
       "       ...,\n",
       "       [9.7284645e-01],\n",
       "       [4.8164785e-01],\n",
       "       [7.0197933e-04]], dtype=float32)"
      ]
     },
     "execution_count": 276,
     "metadata": {},
     "output_type": "execute_result"
    }
   ],
   "source": [
    "mlp_pred"
   ]
  },
  {
   "cell_type": "code",
   "execution_count": 281,
   "metadata": {},
   "outputs": [
    {
     "name": "stdout",
     "output_type": "stream",
     "text": [
      "              precision    recall  f1-score   support\n",
      "\n",
      "           0       0.85      0.87      0.86     14396\n",
      "           1       0.87      0.85      0.86     14471\n",
      "\n",
      "   micro avg       0.86      0.86      0.86     28867\n",
      "   macro avg       0.86      0.86      0.86     28867\n",
      "weighted avg       0.86      0.86      0.86     28867\n",
      "\n",
      "\n",
      "ROC AUC Score:  0.859792766781227\n"
     ]
    }
   ],
   "source": [
    "mlp_pred = model_mlp.predict_classes(X_dev_seq)\n",
    "print(classification_report(y_dev, mlp_pred))"
   ]
  },
  {
   "cell_type": "code",
   "execution_count": null,
   "metadata": {},
   "outputs": [],
   "source": [
    "print(\"\\nAccuracy:  \", accuracy_score(y_dev, mlp_pred))\n",
    "print(\"\\nPrecision: \", precision_score(y_dev, mlp_pred))\n",
    "print(\"\\nRecall:    \", recall_score(y_dev, mlp_pred))\n",
    "print(\"\\nF1 Score:  \", f1_score(y_dev, mlp_pred))\n",
    "print(\"\\nROC AUC Score: \", roc_auc_score(y_dev, mlp_pred))"
   ]
  },
  {
   "cell_type": "markdown",
   "metadata": {},
   "source": [
    "#### Bi-LSTM"
   ]
  },
  {
   "cell_type": "code",
   "execution_count": 270,
   "metadata": {},
   "outputs": [
    {
     "name": "stdout",
     "output_type": "stream",
     "text": [
      "Model: \"sequential_20\"\n",
      "_________________________________________________________________\n",
      "Layer (type)                 Output Shape              Param #   \n",
      "=================================================================\n",
      "embedding_22 (Embedding)     (None, 311, 200)          20000000  \n",
      "_________________________________________________________________\n",
      "bidirectional_1 (Bidirection (None, 200)               240800    \n",
      "_________________________________________________________________\n",
      "dense_23 (Dense)             (None, 1)                 201       \n",
      "=================================================================\n",
      "Total params: 20,241,001\n",
      "Trainable params: 20,241,001\n",
      "Non-trainable params: 0\n",
      "_________________________________________________________________\n"
     ]
    }
   ],
   "source": [
    "model_bilstm = Sequential()\n",
    "model_bilstm.add(Embedding(max_features, embedding_size, weights=[word_embedding_mat], input_length=maxlen))\n",
    "model_bilstm.add(Bidirectional(LSTM(lstm_output_size,dropout=0.02,recurrent_dropout=0.02)))\n",
    "model_bilstm.add(Dense(1, activation='sigmoid'))\n",
    "model_bilstm.summary()"
   ]
  },
  {
   "cell_type": "code",
   "execution_count": 273,
   "metadata": {
    "scrolled": true
   },
   "outputs": [
    {
     "name": "stdout",
     "output_type": "stream",
     "text": [
      "Train on 259801 samples, validate on 28867 samples\n",
      "Epoch 1/4\n",
      "259801/259801 [==============================] - 2159s 8ms/sample - loss: nan - acc: 0.5080 - val_loss: nan - val_acc: 0.4987\n",
      "Epoch 2/4\n",
      "259801/259801 [==============================] - 2148s 8ms/sample - loss: nan - acc: 0.5001 - val_loss: nan - val_acc: 0.4987\n",
      "Epoch 3/4\n",
      "259801/259801 [==============================] - 2149s 8ms/sample - loss: nan - acc: 0.5001 - val_loss: nan - val_acc: 0.4987\n",
      "Epoch 4/4\n",
      "259801/259801 [==============================] - 2149s 8ms/sample - loss: nan - acc: 0.5001 - val_loss: nan - val_acc: 0.4987\n",
      "28867/28867 [==============================] - 44s 2ms/sample - loss: nan - acc: 0.4987\n"
     ]
    }
   ],
   "source": [
    "model_bilstm.compile(loss='binary_crossentropy', \n",
    "                  optimizer='adam', \n",
    "                  metrics=['accuracy'])\n",
    "\n",
    "model_bilstm.fit(X_train_seq, y_train, batch_size=batch_size, epochs=3,validation_data=(X_dev_seq, y_dev))"
   ]
  },
  {
   "cell_type": "code",
   "execution_count": 279,
   "metadata": {},
   "outputs": [
    {
     "name": "stdout",
     "output_type": "stream",
     "text": [
      "              precision    recall  f1-score   support\n",
      "\n",
      "           0       0.50      1.00      0.67     14396\n",
      "           1       0.00      0.00      0.00     14471\n",
      "\n",
      "   micro avg       0.50      0.50      0.50     28867\n",
      "   macro avg       0.25      0.50      0.33     28867\n",
      "weighted avg       0.25      0.50      0.33     28867\n",
      "\n"
     ]
    }
   ],
   "source": [
    "bilstm_pred = model_bilstm.predict_classes(X_dev_seq)\n",
    "print(classification_report(y_dev, bilstm_pred))\n",
    "print(\"\\nAccuracy:  \", accuracy_score(y_dev, bilstm_pred))\n",
    "print(\"\\nPrecision: \", precision_score(y_dev, bilstm_pred))\n",
    "print(\"\\nRecall:    \", recall_score(y_dev, bilstm_pred))\n",
    "print(\"\\nF1 Score:  \", f1_score(y_dev, bilstm_pred))\n",
    "print(\"\\nROC AUC Score: \", roc_auc_score(y_dev, bilstm_pred))"
   ]
  },
  {
   "cell_type": "markdown",
   "metadata": {},
   "source": [
    "#### Evaluating on Test Data"
   ]
  },
  {
   "cell_type": "code",
   "execution_count": 62,
   "metadata": {},
   "outputs": [
    {
     "name": "stdout",
     "output_type": "stream",
     "text": [
      "Test Tensor data shape:  (5774, 217)\n"
     ]
    }
   ],
   "source": [
    "### Similar transformation for the Test Data\n",
    "test_encoded_seq = tokenizer.texts_to_sequences(X_test)\n",
    "X_test_seq = preprocessing.sequence.pad_sequences(test_encoded_seq, maxlen=max_len)\n",
    "print(\"Test Tensor data shape: \", X_test_seq.shape)"
   ]
  },
  {
   "cell_type": "code",
   "execution_count": 63,
   "metadata": {},
   "outputs": [
    {
     "name": "stdout",
     "output_type": "stream",
     "text": [
      "              precision    recall  f1-score   support\n",
      "\n",
      "           0       0.84      0.92      0.88      2922\n",
      "           1       0.91      0.83      0.87      2852\n",
      "\n",
      "   micro avg       0.87      0.87      0.87      5774\n",
      "   macro avg       0.88      0.87      0.87      5774\n",
      "weighted avg       0.88      0.87      0.87      5774\n",
      "\n",
      "\n",
      "Accuracy:   0.8747835122965015\n",
      "\n",
      "Precision:  0.9127568825126018\n",
      "\n",
      "Recall:     0.8253856942496494\n",
      "\n",
      "F1 Score:   0.8668753452402873\n",
      "\n",
      "ROC AUC Score:  0.8741918204307795\n"
     ]
    }
   ],
   "source": [
    "test_pred = model_cnn.predict_classes(X_test_seq)\n",
    "print(classification_report(y_test, test_pred))\n",
    "print(\"\\nAccuracy:  \", accuracy_score(y_test, test_pred))\n",
    "print(\"\\nPrecision: \", precision_score(y_test, test_pred))\n",
    "print(\"\\nRecall:    \", recall_score(y_test, test_pred))\n",
    "print(\"\\nF1 Score:  \", f1_score(y_test, test_pred))\n",
    "print(\"\\nROC AUC Score: \", roc_auc_score(y_test, test_pred))"
   ]
  },
  {
   "cell_type": "code",
   "execution_count": null,
   "metadata": {},
   "outputs": [],
   "source": []
  }
 ],
 "metadata": {
  "kernelspec": {
   "display_name": "Python 3",
   "language": "python",
   "name": "python3"
  },
  "language_info": {
   "codemirror_mode": {
    "name": "ipython",
    "version": 3
   },
   "file_extension": ".py",
   "mimetype": "text/x-python",
   "name": "python",
   "nbconvert_exporter": "python",
   "pygments_lexer": "ipython3",
   "version": "3.7.3"
  }
 },
 "nbformat": 4,
 "nbformat_minor": 2
}
